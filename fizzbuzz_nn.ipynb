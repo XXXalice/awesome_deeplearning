{
 "cells": [
  {
   "cell_type": "code",
   "execution_count": 1,
   "metadata": {
    "ExecuteTime": {
     "end_time": "2018-09-11T14:26:44.010918Z",
     "start_time": "2018-09-11T14:26:44.007630Z"
    }
   },
   "outputs": [
    {
     "name": "stderr",
     "output_type": "stream",
     "text": [
      "Using TensorFlow backend.\n",
      "/usr/local/var/pyenv/versions/anaconda3-5.2.0/envs/ml/lib/python3.6/importlib/_bootstrap.py:219: RuntimeWarning: compiletime version 3.5 of module 'tensorflow.python.framework.fast_tensor_util' does not match runtime version 3.6\n",
      "  return f(*args, **kwds)\n"
     ]
    }
   ],
   "source": [
    "import numpy as np\n",
    "from keras.models import Sequential\n",
    "from keras.layers import Dense\n",
    "from keras.utils import np_utils\n",
    "from keras.layers import Dense\n",
    "from keras.models import Model"
   ]
  },
  {
   "cell_type": "code",
   "execution_count": 2,
   "metadata": {
    "ExecuteTime": {
     "end_time": "2018-09-11T14:26:44.324396Z",
     "start_time": "2018-09-11T14:26:44.176441Z"
    }
   },
   "outputs": [
    {
     "name": "stdout",
     "output_type": "stream",
     "text": [
      "923\n",
      "[[1 0 1 ... 0 0 0]\n",
      " [0 1 1 ... 0 0 0]\n",
      " [1 1 1 ... 0 0 0]\n",
      " ...\n",
      " [1 0 1 ... 1 1 1]\n",
      " [0 1 1 ... 1 1 1]\n",
      " [1 1 1 ... 1 1 1]]\n"
     ]
    }
   ],
   "source": [
    "def binary_encode(i, num_digits):\n",
    "    return np.array([i >> d & 1 for d in range(num_digits)])\n",
    "\n",
    "NUM_DIGITS = 10\n",
    "trX = np.array([binary_encode(i, NUM_DIGITS) for i in range(101, 2 ** NUM_DIGITS)])\n",
    "print(len(trX))\n",
    "print(trX)"
   ]
  },
  {
   "cell_type": "code",
   "execution_count": 3,
   "metadata": {
    "ExecuteTime": {
     "end_time": "2018-09-11T14:26:44.466533Z",
     "start_time": "2018-09-11T14:26:44.405388Z"
    }
   },
   "outputs": [
    {
     "name": "stdout",
     "output_type": "stream",
     "text": [
      "923\n",
      "[[1 0 0 0]\n",
      " [0 1 0 0]\n",
      " [1 0 0 0]\n",
      " ...\n",
      " [1 0 0 0]\n",
      " [1 0 0 0]\n",
      " [0 1 0 0]]\n"
     ]
    }
   ],
   "source": [
    "def fizz_buzz_encode(i):\n",
    "    if   i % 15 == 0: return np.array([0, 0, 0, 1]) #fizzbuzz\n",
    "    elif i % 5  == 0: return np.array([0, 0, 1, 0]) #buzz\n",
    "    elif i % 3  == 0: return np.array([0, 1, 0, 0]) #fizz\n",
    "    else:             return np.array([1, 0, 0, 0])\n",
    "\n",
    "trY = np.array([fizz_buzz_encode(i) for i in range(101, 2 ** NUM_DIGITS)])\n",
    "print(len(trY))\n",
    "print(trY)"
   ]
  },
  {
   "cell_type": "code",
   "execution_count": 5,
   "metadata": {
    "ExecuteTime": {
     "end_time": "2018-09-11T14:26:43.645180Z",
     "start_time": "2018-09-11T14:19:25.272631Z"
    },
    "scrolled": true
   },
   "outputs": [
    {
     "name": "stdout",
     "output_type": "stream",
     "text": [
      "Epoch 1/100\n",
      "923/923 [==============================] - 0s 399us/step - loss: 1.9104 - acc: 0.5060\n",
      "Epoch 2/100\n",
      "923/923 [==============================] - 0s 153us/step - loss: 1.1448 - acc: 0.5341\n",
      "Epoch 3/100\n",
      "923/923 [==============================] - 0s 137us/step - loss: 1.1413 - acc: 0.5341\n",
      "Epoch 4/100\n",
      "923/923 [==============================] - 0s 154us/step - loss: 1.1346 - acc: 0.5341\n",
      "Epoch 5/100\n",
      "923/923 [==============================] - 0s 146us/step - loss: 1.1246 - acc: 0.5341\n",
      "Epoch 6/100\n",
      "923/923 [==============================] - 0s 152us/step - loss: 1.1154 - acc: 0.5341\n",
      "Epoch 7/100\n",
      "923/923 [==============================] - 0s 156us/step - loss: 1.1057 - acc: 0.5341\n",
      "Epoch 8/100\n",
      "923/923 [==============================] - 0s 165us/step - loss: 1.0900 - acc: 0.5330\n",
      "Epoch 9/100\n",
      "923/923 [==============================] - 0s 165us/step - loss: 1.0738 - acc: 0.5320\n",
      "Epoch 10/100\n",
      "923/923 [==============================] - 0s 157us/step - loss: 1.0568 - acc: 0.5352\n",
      "Epoch 11/100\n",
      "923/923 [==============================] - 0s 253us/step - loss: 1.0386 - acc: 0.5406\n",
      "Epoch 12/100\n",
      "923/923 [==============================] - 0s 206us/step - loss: 1.0209 - acc: 0.5536\n",
      "Epoch 13/100\n",
      "923/923 [==============================] - 0s 168us/step - loss: 0.9950 - acc: 0.5482\n",
      "Epoch 14/100\n",
      "923/923 [==============================] - 0s 198us/step - loss: 0.9626 - acc: 0.5536\n",
      "Epoch 15/100\n",
      "923/923 [==============================] - 0s 202us/step - loss: 0.9377 - acc: 0.5634\n",
      "Epoch 16/100\n",
      "923/923 [==============================] - 0s 171us/step - loss: 0.9219 - acc: 0.5699\n",
      "Epoch 17/100\n",
      "923/923 [==============================] - 0s 169us/step - loss: 0.8931 - acc: 0.5720\n",
      "Epoch 18/100\n",
      "923/923 [==============================] - 0s 163us/step - loss: 0.8479 - acc: 0.6089\n",
      "Epoch 19/100\n",
      "923/923 [==============================] - 0s 156us/step - loss: 0.8308 - acc: 0.6262\n",
      "Epoch 20/100\n",
      "923/923 [==============================] - 0s 172us/step - loss: 0.7892 - acc: 0.6479\n",
      "Epoch 21/100\n",
      "923/923 [==============================] - 0s 170us/step - loss: 0.7708 - acc: 0.6522\n",
      "Epoch 22/100\n",
      "923/923 [==============================] - 0s 144us/step - loss: 0.7180 - acc: 0.6966\n",
      "Epoch 23/100\n",
      "923/923 [==============================] - 0s 142us/step - loss: 0.7006 - acc: 0.7161\n",
      "Epoch 24/100\n",
      "923/923 [==============================] - 0s 190us/step - loss: 0.6683 - acc: 0.7378\n",
      "Epoch 25/100\n",
      "923/923 [==============================] - 0s 158us/step - loss: 0.6183 - acc: 0.7931\n",
      "Epoch 26/100\n",
      "923/923 [==============================] - 0s 147us/step - loss: 0.5917 - acc: 0.8007\n",
      "Epoch 27/100\n",
      "923/923 [==============================] - 0s 150us/step - loss: 0.5671 - acc: 0.8223\n",
      "Epoch 28/100\n",
      "923/923 [==============================] - 0s 164us/step - loss: 0.5487 - acc: 0.8234\n",
      "Epoch 29/100\n",
      "923/923 [==============================] - 0s 160us/step - loss: 0.4924 - acc: 0.8852\n",
      "Epoch 30/100\n",
      "923/923 [==============================] - 0s 163us/step - loss: 0.4639 - acc: 0.8917\n",
      "Epoch 31/100\n",
      "923/923 [==============================] - 0s 157us/step - loss: 0.4264 - acc: 0.9307\n",
      "Epoch 32/100\n",
      "923/923 [==============================] - 0s 164us/step - loss: 0.4657 - acc: 0.8581\n",
      "Epoch 33/100\n",
      "923/923 [==============================] - 0s 165us/step - loss: 0.4091 - acc: 0.9068\n",
      "Epoch 34/100\n",
      "923/923 [==============================] - 0s 145us/step - loss: 0.3659 - acc: 0.9393\n",
      "Epoch 35/100\n",
      "923/923 [==============================] - 0s 177us/step - loss: 0.3265 - acc: 0.9577\n",
      "Epoch 36/100\n",
      "923/923 [==============================] - 0s 192us/step - loss: 0.3556 - acc: 0.9220\n",
      "Epoch 37/100\n",
      "923/923 [==============================] - 0s 149us/step - loss: 0.3105 - acc: 0.9404\n",
      "Epoch 38/100\n",
      "923/923 [==============================] - 0s 143us/step - loss: 0.2978 - acc: 0.9502\n",
      "Epoch 39/100\n",
      "923/923 [==============================] - 0s 150us/step - loss: 0.2632 - acc: 0.9686\n",
      "Epoch 40/100\n",
      "923/923 [==============================] - 0s 146us/step - loss: 0.2541 - acc: 0.9718\n",
      "Epoch 41/100\n",
      "923/923 [==============================] - 0s 154us/step - loss: 0.2364 - acc: 0.9729\n",
      "Epoch 42/100\n",
      "923/923 [==============================] - 0s 169us/step - loss: 0.2221 - acc: 0.9664\n",
      "Epoch 43/100\n",
      "923/923 [==============================] - 0s 180us/step - loss: 0.2056 - acc: 0.9751\n",
      "Epoch 44/100\n",
      "923/923 [==============================] - 0s 156us/step - loss: 0.1923 - acc: 0.9794\n",
      "Epoch 45/100\n",
      "923/923 [==============================] - 0s 147us/step - loss: 0.1835 - acc: 0.9794\n",
      "Epoch 46/100\n",
      "923/923 [==============================] - 0s 161us/step - loss: 0.1679 - acc: 0.9848\n",
      "Epoch 47/100\n",
      "923/923 [==============================] - 0s 150us/step - loss: 0.1689 - acc: 0.9805\n",
      "Epoch 48/100\n",
      "923/923 [==============================] - 0s 154us/step - loss: 0.1823 - acc: 0.9718\n",
      "Epoch 49/100\n",
      "923/923 [==============================] - 0s 173us/step - loss: 0.1469 - acc: 0.9881\n",
      "Epoch 50/100\n",
      "923/923 [==============================] - 0s 156us/step - loss: 0.1428 - acc: 0.9794\n",
      "Epoch 51/100\n",
      "923/923 [==============================] - 0s 151us/step - loss: 0.1286 - acc: 0.9892\n",
      "Epoch 52/100\n",
      "923/923 [==============================] - 0s 159us/step - loss: 0.1333 - acc: 0.9859\n",
      "Epoch 53/100\n",
      "923/923 [==============================] - 0s 156us/step - loss: 0.1204 - acc: 0.9924\n",
      "Epoch 54/100\n",
      "923/923 [==============================] - 0s 143us/step - loss: 0.1154 - acc: 0.9913\n",
      "Epoch 55/100\n",
      "923/923 [==============================] - 0s 169us/step - loss: 0.1099 - acc: 0.9913\n",
      "Epoch 56/100\n",
      "923/923 [==============================] - 0s 163us/step - loss: 0.0969 - acc: 0.9957\n",
      "Epoch 57/100\n",
      "923/923 [==============================] - 0s 153us/step - loss: 0.0960 - acc: 0.9946\n",
      "Epoch 58/100\n",
      "923/923 [==============================] - 0s 161us/step - loss: 0.0876 - acc: 0.9967\n",
      "Epoch 59/100\n",
      "923/923 [==============================] - 0s 188us/step - loss: 0.0849 - acc: 0.9935\n",
      "Epoch 60/100\n",
      "923/923 [==============================] - 0s 167us/step - loss: 0.0883 - acc: 0.9924\n",
      "Epoch 61/100\n",
      "923/923 [==============================] - 0s 143us/step - loss: 0.0786 - acc: 0.9967\n",
      "Epoch 62/100\n",
      "923/923 [==============================] - 0s 146us/step - loss: 0.0750 - acc: 0.9957\n",
      "Epoch 63/100\n",
      "923/923 [==============================] - 0s 153us/step - loss: 0.0721 - acc: 0.9946\n",
      "Epoch 64/100\n",
      "923/923 [==============================] - 0s 139us/step - loss: 0.0679 - acc: 0.9957\n",
      "Epoch 65/100\n",
      "923/923 [==============================] - 0s 152us/step - loss: 0.0666 - acc: 0.9967\n",
      "Epoch 66/100\n",
      "923/923 [==============================] - 0s 156us/step - loss: 0.0629 - acc: 0.9957\n",
      "Epoch 67/100\n",
      "923/923 [==============================] - 0s 144us/step - loss: 0.0604 - acc: 0.9978\n",
      "Epoch 68/100\n",
      "923/923 [==============================] - 0s 151us/step - loss: 0.0574 - acc: 0.9989\n",
      "Epoch 69/100\n",
      "923/923 [==============================] - 0s 145us/step - loss: 0.0553 - acc: 0.9989\n",
      "Epoch 70/100\n",
      "923/923 [==============================] - 0s 174us/step - loss: 0.0532 - acc: 0.9967\n",
      "Epoch 71/100\n",
      "923/923 [==============================] - 0s 155us/step - loss: 0.0516 - acc: 0.9989\n",
      "Epoch 72/100\n",
      "923/923 [==============================] - 0s 150us/step - loss: 0.0506 - acc: 0.9967\n",
      "Epoch 73/100\n",
      "923/923 [==============================] - 0s 152us/step - loss: 0.0514 - acc: 0.9978\n",
      "Epoch 74/100\n",
      "923/923 [==============================] - 0s 146us/step - loss: 0.0474 - acc: 0.9989\n",
      "Epoch 75/100\n",
      "923/923 [==============================] - 0s 153us/step - loss: 0.0457 - acc: 0.9989\n",
      "Epoch 76/100\n",
      "923/923 [==============================] - 0s 157us/step - loss: 0.0433 - acc: 0.9989\n",
      "Epoch 77/100\n",
      "923/923 [==============================] - 0s 158us/step - loss: 0.0414 - acc: 0.9989\n",
      "Epoch 78/100\n",
      "923/923 [==============================] - 0s 144us/step - loss: 0.0410 - acc: 0.9989\n",
      "Epoch 79/100\n",
      "923/923 [==============================] - 0s 143us/step - loss: 0.0385 - acc: 0.9989\n",
      "Epoch 80/100\n",
      "923/923 [==============================] - 0s 156us/step - loss: 0.0384 - acc: 0.9989\n",
      "Epoch 81/100\n",
      "923/923 [==============================] - 0s 149us/step - loss: 0.0371 - acc: 0.9989\n",
      "Epoch 82/100\n",
      "923/923 [==============================] - 0s 167us/step - loss: 0.0371 - acc: 0.9989\n",
      "Epoch 83/100\n"
     ]
    },
    {
     "name": "stdout",
     "output_type": "stream",
     "text": [
      "923/923 [==============================] - 0s 167us/step - loss: 0.0363 - acc: 0.9989\n",
      "Epoch 84/100\n",
      "923/923 [==============================] - 0s 157us/step - loss: 0.0332 - acc: 0.9989\n",
      "Epoch 85/100\n",
      "923/923 [==============================] - 0s 156us/step - loss: 0.0351 - acc: 1.0000\n",
      "Epoch 86/100\n",
      "923/923 [==============================] - 0s 146us/step - loss: 0.0317 - acc: 0.9989\n",
      "Epoch 87/100\n",
      "923/923 [==============================] - 0s 140us/step - loss: 0.0306 - acc: 0.9989\n",
      "Epoch 88/100\n",
      "923/923 [==============================] - 0s 138us/step - loss: 0.0296 - acc: 0.9989\n",
      "Epoch 89/100\n",
      "923/923 [==============================] - 0s 136us/step - loss: 0.0316 - acc: 1.0000\n",
      "Epoch 90/100\n",
      "923/923 [==============================] - 0s 145us/step - loss: 0.0285 - acc: 1.0000\n",
      "Epoch 91/100\n",
      "923/923 [==============================] - 0s 155us/step - loss: 0.0274 - acc: 1.0000\n",
      "Epoch 92/100\n",
      "923/923 [==============================] - 0s 139us/step - loss: 0.0267 - acc: 1.0000\n",
      "Epoch 93/100\n",
      "923/923 [==============================] - 0s 157us/step - loss: 0.0252 - acc: 1.0000\n",
      "Epoch 94/100\n",
      "923/923 [==============================] - 0s 160us/step - loss: 0.0253 - acc: 1.0000\n",
      "Epoch 95/100\n",
      "923/923 [==============================] - 0s 148us/step - loss: 0.0244 - acc: 1.0000\n",
      "Epoch 96/100\n",
      "923/923 [==============================] - 0s 140us/step - loss: 0.0238 - acc: 1.0000\n",
      "Epoch 97/100\n",
      "923/923 [==============================] - 0s 147us/step - loss: 0.0230 - acc: 1.0000\n",
      "Epoch 98/100\n",
      "923/923 [==============================] - 0s 160us/step - loss: 0.0224 - acc: 1.0000\n",
      "Epoch 99/100\n",
      "923/923 [==============================] - 0s 148us/step - loss: 0.0218 - acc: 1.0000\n",
      "Epoch 100/100\n",
      "923/923 [==============================] - 0s 167us/step - loss: 0.0228 - acc: 1.0000\n"
     ]
    },
    {
     "data": {
      "text/plain": [
       "<keras.callbacks.History at 0x11a2764e0>"
      ]
     },
     "execution_count": 5,
     "metadata": {},
     "output_type": "execute_result"
    }
   ],
   "source": [
    "model = Sequential()\n",
    "model.add(Dense(1000, input_dim=NUM_DIGITS, activation=\"relu\"))\n",
    "model.add(Dense(1000, activation=\"relu\"))\n",
    "model.add(Dense(4, activation=\"softmax\"))\n",
    "model.compile(loss='categorical_crossentropy', optimizer='adagrad', metrics=[\"accuracy\"])\n",
    "model.fit(trX, trY, epochs=100, batch_size=128)"
   ]
  },
  {
   "cell_type": "code",
   "execution_count": 6,
   "metadata": {
    "ExecuteTime": {
     "end_time": "2018-09-10T14:39:21.867120Z",
     "start_time": "2018-09-10T14:39:21.814913Z"
    }
   },
   "outputs": [
    {
     "name": "stdout",
     "output_type": "stream",
     "text": [
      "['1' '2' 'fizz' '4' '5' 'fizz' '7' '8' 'fizz' 'buzz' '11' 'fizz' '13' '14'\n",
      " 'fizzbuzz' '16' '17' 'fizz' '19' '20' 'fizz' '22' '23' 'fizz' 'buzz' '26'\n",
      " 'fizz' '28' '29' 'fizzbuzz' '31' '32' 'fizz' '34' 'buzz' 'fizz' '37' '38'\n",
      " 'fizz' 'buzz' '41' 'fizz' '43' '44' 'fizzbuzz' '46' '47' 'fizz' '49'\n",
      " 'buzz' 'fizz' '52' '53' 'fizz' 'buzz' '56' 'fizz' '58' '59' 'fizzbuzz'\n",
      " '61' '62' 'fizz' '64' 'buzz' 'fizz' '67' '68' 'fizz' 'buzz' '71' 'fizz'\n",
      " '73' '74' 'fizzbuzz' 'buzz' '77' 'fizz' '79' '80' '81' '82' '83' 'fizz'\n",
      " 'buzz' '86' 'fizz' '88' '89' 'fizzbuzz' '91' '92' 'fizz' '94' 'buzz'\n",
      " 'fizz' '97' '98' 'fizz' 'buzz']\n",
      "['1' '2' 'fizz' '4' 'buzz' 'fizz' '7' '8' 'fizz' 'buzz' '11' 'fizz' '13'\n",
      " '14' 'fizzbuzz' '16' '17' 'fizz' '19' 'buzz' 'fizz' '22' '23' 'fizz'\n",
      " 'buzz' '26' 'fizz' '28' '29' 'fizzbuzz' '31' '32' 'fizz' '34' 'buzz'\n",
      " 'fizz' '37' '38' 'fizz' 'buzz' '41' 'fizz' '43' '44' 'fizzbuzz' '46' '47'\n",
      " 'fizz' '49' 'buzz' 'fizz' '52' '53' 'fizz' 'buzz' '56' 'fizz' '58' '59'\n",
      " 'fizzbuzz' '61' '62' 'fizz' '64' 'buzz' 'fizz' '67' '68' 'fizz' 'buzz'\n",
      " '71' 'fizz' '73' '74' 'fizzbuzz' '76' '77' 'fizz' '79' 'buzz' 'fizz' '82'\n",
      " '83' 'fizz' 'buzz' '86' 'fizz' '88' '89' 'fizzbuzz' '91' '92' 'fizz' '94'\n",
      " 'buzz' 'fizz' '97' '98' 'fizz' 'buzz']\n",
      "0.95\n"
     ]
    }
   ],
   "source": [
    "def fizz_buzz(i, prediction):\n",
    "    return [str(i), \"fizz\", \"buzz\", \"fizzbuzz\"][prediction]\n",
    "numbers = np.arange(1, 101)\n",
    "teX = np.transpose(binary_encode(numbers, NUM_DIGITS))\n",
    "teY = model.predict_classes(teX)\n",
    "output = np.vectorize(fizz_buzz)(numbers, teY)\n",
    "print (output)\n",
    "\n",
    "\n",
    "answer = np.array([])\n",
    "for i in numbers:\n",
    "    if i % 15 == 0: answer = np.append(answer, \"fizzbuzz\")\n",
    "    elif i % 5 == 0: answer = np.append(answer, \"buzz\")\n",
    "    elif i % 3 == 0: answer = np.append(answer, \"fizz\")\n",
    "    else: answer = np.append(answer, str(i))\n",
    "print (answer)\n",
    "\n",
    "evaluate = np.array(answer == output)\n",
    "print (np.count_nonzero(evaluate == True) / 100)"
   ]
  },
  {
   "cell_type": "code",
   "execution_count": null,
   "metadata": {},
   "outputs": [],
   "source": []
  }
 ],
 "metadata": {
  "kernelspec": {
   "display_name": "Python 3",
   "language": "python",
   "name": "python3"
  },
  "language_info": {
   "codemirror_mode": {
    "name": "ipython",
    "version": 3
   },
   "file_extension": ".py",
   "mimetype": "text/x-python",
   "name": "python",
   "nbconvert_exporter": "python",
   "pygments_lexer": "ipython3",
   "version": "3.6.6"
  }
 },
 "nbformat": 4,
 "nbformat_minor": 2
}
