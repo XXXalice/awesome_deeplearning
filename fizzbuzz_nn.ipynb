{
 "cells": [
  {
   "cell_type": "code",
   "execution_count": 15,
   "metadata": {
    "ExecuteTime": {
     "end_time": "2018-09-11T14:26:44.010918Z",
     "start_time": "2018-09-11T14:26:44.007630Z"
    }
   },
   "outputs": [],
   "source": [
    "import numpy as np\n",
    "from keras.models import Sequential\n",
    "from keras.layers import Dense\n",
    "from keras.utils import np_utils\n",
    "from keras.layers import Dense\n",
    "from keras.models import Model"
   ]
  },
  {
   "cell_type": "code",
   "execution_count": 17,
   "metadata": {
    "ExecuteTime": {
     "end_time": "2018-09-11T14:26:44.324396Z",
     "start_time": "2018-09-11T14:26:44.176441Z"
    }
   },
   "outputs": [
    {
     "name": "stdout",
     "output_type": "stream",
     "text": [
      "32667\n"
     ]
    }
   ],
   "source": [
    "def binary_encode(i, num_digits):\n",
    "    return np.array([i >> d & 1 for d in range(num_digits)])\n",
    "\n",
    "NUM_DIGITS = 15\n",
    "trX = np.array([binary_encode(i, NUM_DIGITS) for i in range(101, 2 ** NUM_DIGITS)])\n",
    "print(len(trX))"
   ]
  },
  {
   "cell_type": "code",
   "execution_count": 19,
   "metadata": {
    "ExecuteTime": {
     "end_time": "2018-09-11T14:26:44.466533Z",
     "start_time": "2018-09-11T14:26:44.405388Z"
    }
   },
   "outputs": [
    {
     "name": "stdout",
     "output_type": "stream",
     "text": [
      "32667\n"
     ]
    }
   ],
   "source": [
    "def fizz_buzz_encode(i):\n",
    "    if   i % 15 == 0: return np.array([0, 0, 0, 1]) #fizzbuzz\n",
    "    elif i % 5  == 0: return np.array([0, 0, 1, 0]) #buzz\n",
    "    elif i % 3  == 0: return np.array([0, 1, 0, 0]) #fizz\n",
    "    else:             return np.array([1, 0, 0, 0])\n",
    "\n",
    "trY = np.array([fizz_buzz_encode(i) for i in range(101, 2 ** NUM_DIGITS)])\n",
    "print(len(trY))"
   ]
  },
  {
   "cell_type": "code",
   "execution_count": 12,
   "metadata": {
    "ExecuteTime": {
     "end_time": "2018-09-11T14:26:43.645180Z",
     "start_time": "2018-09-11T14:19:25.272631Z"
    },
    "scrolled": true
   },
   "outputs": [
    {
     "name": "stderr",
     "output_type": "stream",
     "text": [
      "/usr/local/var/pyenv/versions/anaconda3-5.2.0/envs/ml/lib/python3.6/site-packages/ipykernel_launcher.py:6: UserWarning: The `nb_epoch` argument in `fit` has been renamed `epochs`.\n",
      "  \n"
     ]
    },
    {
     "name": "stdout",
     "output_type": "stream",
     "text": [
      "Epoch 1/100\n",
      "32667/32667 [==============================] - 4s 134us/step - loss: 1.1688 - acc: 0.5298\n",
      "Epoch 2/100\n",
      "32667/32667 [==============================] - 4s 128us/step - loss: 1.1302 - acc: 0.5334\n",
      "Epoch 3/100\n",
      "32667/32667 [==============================] - 4s 130us/step - loss: 1.0988 - acc: 0.5334\n",
      "Epoch 4/100\n",
      "32667/32667 [==============================] - 4s 130us/step - loss: 1.0128 - acc: 0.5497\n",
      "Epoch 5/100\n",
      "32667/32667 [==============================] - 4s 134us/step - loss: 0.8277 - acc: 0.6558\n",
      "Epoch 6/100\n",
      "32667/32667 [==============================] - 4s 134us/step - loss: 0.6023 - acc: 0.7941\n",
      "Epoch 7/100\n",
      "32667/32667 [==============================] - 5s 159us/step - loss: 0.4335 - acc: 0.8716\n",
      "Epoch 8/100\n",
      "32667/32667 [==============================] - 4s 136us/step - loss: 0.3138 - acc: 0.9201\n",
      "Epoch 9/100\n",
      "32667/32667 [==============================] - 4s 134us/step - loss: 0.2341 - acc: 0.9454\n",
      "Epoch 10/100\n",
      "32667/32667 [==============================] - 4s 130us/step - loss: 0.1773 - acc: 0.9646\n",
      "Epoch 11/100\n",
      "32667/32667 [==============================] - 5s 140us/step - loss: 0.1405 - acc: 0.9735\n",
      "Epoch 12/100\n",
      "32667/32667 [==============================] - 4s 127us/step - loss: 0.1110 - acc: 0.9809\n",
      "Epoch 13/100\n",
      "32667/32667 [==============================] - 4s 130us/step - loss: 0.0925 - acc: 0.9854\n",
      "Epoch 14/100\n",
      "32667/32667 [==============================] - 4s 126us/step - loss: 0.0769 - acc: 0.9891\n",
      "Epoch 15/100\n",
      "32667/32667 [==============================] - 4s 124us/step - loss: 0.0619 - acc: 0.9928\n",
      "Epoch 16/100\n",
      "32667/32667 [==============================] - 4s 129us/step - loss: 0.0529 - acc: 0.9942\n",
      "Epoch 17/100\n",
      "32667/32667 [==============================] - 4s 136us/step - loss: 0.0451 - acc: 0.9963\n",
      "Epoch 18/100\n",
      "32667/32667 [==============================] - 4s 125us/step - loss: 0.0386 - acc: 0.9973\n",
      "Epoch 19/100\n",
      "32667/32667 [==============================] - 4s 126us/step - loss: 0.0335 - acc: 0.9979\n",
      "Epoch 20/100\n",
      "32667/32667 [==============================] - 4s 119us/step - loss: 0.0297 - acc: 0.9982\n",
      "Epoch 21/100\n",
      "32667/32667 [==============================] - 4s 130us/step - loss: 0.0257 - acc: 0.9989\n",
      "Epoch 22/100\n",
      "32667/32667 [==============================] - 4s 137us/step - loss: 0.0229 - acc: 0.9993\n",
      "Epoch 23/100\n",
      "32667/32667 [==============================] - 4s 134us/step - loss: 0.0205 - acc: 0.9993\n",
      "Epoch 24/100\n",
      "32667/32667 [==============================] - 5s 144us/step - loss: 0.0183 - acc: 0.9996\n",
      "Epoch 25/100\n",
      "32667/32667 [==============================] - 5s 150us/step - loss: 0.0165 - acc: 0.9997\n",
      "Epoch 26/100\n",
      "32667/32667 [==============================] - 5s 158us/step - loss: 0.0150 - acc: 0.9998\n",
      "Epoch 27/100\n",
      "32667/32667 [==============================] - 5s 141us/step - loss: 0.0136 - acc: 0.9999\n",
      "Epoch 28/100\n",
      "32667/32667 [==============================] - 5s 148us/step - loss: 0.0126 - acc: 0.9998\n",
      "Epoch 29/100\n",
      "32667/32667 [==============================] - 5s 155us/step - loss: 0.0115 - acc: 0.9999\n",
      "Epoch 30/100\n",
      "32667/32667 [==============================] - 5s 157us/step - loss: 0.0106 - acc: 1.0000\n",
      "Epoch 31/100\n",
      "32667/32667 [==============================] - 5s 143us/step - loss: 0.0098 - acc: 1.0000\n",
      "Epoch 32/100\n",
      "32667/32667 [==============================] - 5s 143us/step - loss: 0.0091 - acc: 1.0000\n",
      "Epoch 33/100\n",
      "32667/32667 [==============================] - 5s 140us/step - loss: 0.0085 - acc: 1.0000\n",
      "Epoch 34/100\n",
      "32667/32667 [==============================] - 5s 149us/step - loss: 0.0079 - acc: 1.0000\n",
      "Epoch 35/100\n",
      "32667/32667 [==============================] - 5s 151us/step - loss: 0.0074 - acc: 1.0000\n",
      "Epoch 36/100\n",
      "32667/32667 [==============================] - 5s 148us/step - loss: 0.0070 - acc: 1.0000\n",
      "Epoch 37/100\n",
      "32667/32667 [==============================] - 5s 148us/step - loss: 0.0065 - acc: 1.0000\n",
      "Epoch 38/100\n",
      "32667/32667 [==============================] - 5s 153us/step - loss: 0.0062 - acc: 1.0000\n",
      "Epoch 39/100\n",
      "32667/32667 [==============================] - 5s 151us/step - loss: 0.0058 - acc: 1.0000\n",
      "Epoch 40/100\n",
      "32667/32667 [==============================] - 4s 136us/step - loss: 0.0055 - acc: 1.0000\n",
      "Epoch 41/100\n",
      "32667/32667 [==============================] - 4s 122us/step - loss: 0.0053 - acc: 1.0000\n",
      "Epoch 42/100\n",
      "32667/32667 [==============================] - 6s 190us/step - loss: 0.0050 - acc: 1.0000\n",
      "Epoch 43/100\n",
      "32667/32667 [==============================] - 5s 153us/step - loss: 0.0048 - acc: 1.0000\n",
      "Epoch 44/100\n",
      "32667/32667 [==============================] - 4s 127us/step - loss: 0.0046 - acc: 1.0000\n",
      "Epoch 45/100\n",
      "32667/32667 [==============================] - 5s 142us/step - loss: 0.0044 - acc: 1.0000\n",
      "Epoch 46/100\n",
      "32667/32667 [==============================] - 4s 134us/step - loss: 0.0042 - acc: 1.0000\n",
      "Epoch 47/100\n",
      "32667/32667 [==============================] - 4s 129us/step - loss: 0.0040 - acc: 1.0000\n",
      "Epoch 48/100\n",
      "32667/32667 [==============================] - 5s 139us/step - loss: 0.0039 - acc: 1.0000\n",
      "Epoch 49/100\n",
      "32667/32667 [==============================] - 4s 126us/step - loss: 0.0037 - acc: 1.0000\n",
      "Epoch 50/100\n",
      "32667/32667 [==============================] - 5s 138us/step - loss: 0.0036 - acc: 1.0000\n",
      "Epoch 51/100\n",
      "32667/32667 [==============================] - 4s 125us/step - loss: 0.0034 - acc: 1.0000\n",
      "Epoch 52/100\n",
      "32667/32667 [==============================] - 4s 134us/step - loss: 0.0033 - acc: 1.0000\n",
      "Epoch 53/100\n",
      "32667/32667 [==============================] - 4s 134us/step - loss: 0.0032 - acc: 1.0000\n",
      "Epoch 54/100\n",
      "32667/32667 [==============================] - 5s 138us/step - loss: 0.0031 - acc: 1.0000\n",
      "Epoch 55/100\n",
      "32667/32667 [==============================] - 5s 140us/step - loss: 0.0030 - acc: 1.0000\n",
      "Epoch 56/100\n",
      "32667/32667 [==============================] - 5s 145us/step - loss: 0.0029 - acc: 1.0000\n",
      "Epoch 57/100\n",
      "32667/32667 [==============================] - 5s 142us/step - loss: 0.0028 - acc: 1.0000\n",
      "Epoch 58/100\n",
      "32667/32667 [==============================] - 4s 133us/step - loss: 0.0027 - acc: 1.0000\n",
      "Epoch 59/100\n",
      "32667/32667 [==============================] - 5s 157us/step - loss: 0.0026 - acc: 1.0000\n",
      "Epoch 60/100\n",
      "32667/32667 [==============================] - 5s 152us/step - loss: 0.0026 - acc: 1.0000\n",
      "Epoch 61/100\n",
      "32667/32667 [==============================] - 4s 134us/step - loss: 0.0025 - acc: 1.0000\n",
      "Epoch 62/100\n",
      "32667/32667 [==============================] - 5s 141us/step - loss: 0.0024 - acc: 1.0000\n",
      "Epoch 63/100\n",
      "32667/32667 [==============================] - 5s 142us/step - loss: 0.0023 - acc: 1.0000\n",
      "Epoch 64/100\n",
      "32667/32667 [==============================] - 4s 134us/step - loss: 0.0023 - acc: 1.0000\n",
      "Epoch 65/100\n",
      "32667/32667 [==============================] - 4s 128us/step - loss: 0.0022 - acc: 1.0000\n",
      "Epoch 66/100\n",
      "32667/32667 [==============================] - 4s 125us/step - loss: 0.0022 - acc: 1.0000\n",
      "Epoch 67/100\n",
      "32667/32667 [==============================] - 4s 126us/step - loss: 0.0021 - acc: 1.0000\n",
      "Epoch 68/100\n",
      "32667/32667 [==============================] - 4s 122us/step - loss: 0.0021 - acc: 1.0000\n",
      "Epoch 69/100\n",
      "32667/32667 [==============================] - 4s 131us/step - loss: 0.0020 - acc: 1.0000\n",
      "Epoch 70/100\n",
      "32667/32667 [==============================] - 4s 130us/step - loss: 0.0020 - acc: 1.0000\n",
      "Epoch 71/100\n",
      "32667/32667 [==============================] - 4s 127us/step - loss: 0.0019 - acc: 1.0000\n",
      "Epoch 72/100\n",
      "32667/32667 [==============================] - 4s 131us/step - loss: 0.0019 - acc: 1.0000\n",
      "Epoch 73/100\n",
      "32667/32667 [==============================] - 4s 131us/step - loss: 0.0018 - acc: 1.0000\n",
      "Epoch 74/100\n",
      "32667/32667 [==============================] - 4s 126us/step - loss: 0.0018 - acc: 1.0000\n",
      "Epoch 75/100\n",
      "32667/32667 [==============================] - 4s 116us/step - loss: 0.0017 - acc: 1.0000\n",
      "Epoch 76/100\n",
      "32667/32667 [==============================] - 4s 118us/step - loss: 0.0017 - acc: 1.0000\n",
      "Epoch 77/100\n",
      "32667/32667 [==============================] - 4s 123us/step - loss: 0.0017 - acc: 1.0000\n",
      "Epoch 78/100\n",
      "32667/32667 [==============================] - 4s 121us/step - loss: 0.0016 - acc: 1.0000\n",
      "Epoch 79/100\n",
      "32667/32667 [==============================] - 4s 129us/step - loss: 0.0016 - acc: 1.0000\n",
      "Epoch 80/100\n"
     ]
    },
    {
     "name": "stdout",
     "output_type": "stream",
     "text": [
      "32667/32667 [==============================] - 4s 132us/step - loss: 0.0016 - acc: 1.0000\n",
      "Epoch 81/100\n",
      "32667/32667 [==============================] - 4s 129us/step - loss: 0.0015 - acc: 1.0000\n",
      "Epoch 82/100\n",
      "32667/32667 [==============================] - 4s 134us/step - loss: 0.0015 - acc: 1.0000\n",
      "Epoch 83/100\n",
      "32667/32667 [==============================] - 4s 132us/step - loss: 0.0015 - acc: 1.0000\n",
      "Epoch 84/100\n",
      "32667/32667 [==============================] - 4s 128us/step - loss: 0.0014 - acc: 1.0000\n",
      "Epoch 85/100\n",
      "32667/32667 [==============================] - 4s 133us/step - loss: 0.0014 - acc: 1.0000\n",
      "Epoch 86/100\n",
      "32667/32667 [==============================] - 4s 127us/step - loss: 0.0014 - acc: 1.0000\n",
      "Epoch 87/100\n",
      "32667/32667 [==============================] - 4s 136us/step - loss: 0.0013 - acc: 1.0000\n",
      "Epoch 88/100\n",
      "32667/32667 [==============================] - 4s 134us/step - loss: 0.0013 - acc: 1.0000\n",
      "Epoch 89/100\n",
      "32667/32667 [==============================] - 4s 130us/step - loss: 0.0013 - acc: 1.0000\n",
      "Epoch 90/100\n",
      "32667/32667 [==============================] - 4s 119us/step - loss: 0.0013 - acc: 1.0000\n",
      "Epoch 91/100\n",
      "32667/32667 [==============================] - 4s 117us/step - loss: 0.0012 - acc: 1.0000\n",
      "Epoch 92/100\n",
      "32667/32667 [==============================] - 4s 124us/step - loss: 0.0012 - acc: 1.0000\n",
      "Epoch 93/100\n",
      "32667/32667 [==============================] - 4s 117us/step - loss: 0.0012 - acc: 1.0000\n",
      "Epoch 94/100\n",
      "32667/32667 [==============================] - 4s 116us/step - loss: 0.0012 - acc: 1.0000\n",
      "Epoch 95/100\n",
      "32667/32667 [==============================] - 4s 121us/step - loss: 0.0012 - acc: 1.0000\n",
      "Epoch 96/100\n",
      "32667/32667 [==============================] - 4s 118us/step - loss: 0.0011 - acc: 1.0000\n",
      "Epoch 97/100\n",
      "32667/32667 [==============================] - 4s 118us/step - loss: 0.0011 - acc: 1.0000\n",
      "Epoch 98/100\n",
      "32667/32667 [==============================] - 4s 119us/step - loss: 0.0011 - acc: 1.0000\n",
      "Epoch 99/100\n",
      "32667/32667 [==============================] - 4s 120us/step - loss: 0.0011 - acc: 1.0000\n",
      "Epoch 100/100\n",
      "32667/32667 [==============================] - 4s 121us/step - loss: 0.0011 - acc: 1.0000\n"
     ]
    },
    {
     "data": {
      "text/plain": [
       "<keras.callbacks.History at 0x11bca9c88>"
      ]
     },
     "execution_count": 12,
     "metadata": {},
     "output_type": "execute_result"
    }
   ],
   "source": [
    "model = Sequential()\n",
    "model.add(Dense(1000, input_dim=15, activation=\"relu\"))\n",
    "model.add(Dense(1000, activation=\"relu\"))\n",
    "model.add(Dense(4, activation=\"softmax\"))\n",
    "model.compile(loss='categorical_crossentropy', optimizer='adagrad', metrics=[\"accuracy\"])\n",
    "model.fit(trX, trY, nb_epoch=100, batch_size=128)"
   ]
  },
  {
   "cell_type": "code",
   "execution_count": 8,
   "metadata": {
    "ExecuteTime": {
     "end_time": "2018-09-10T14:39:21.867120Z",
     "start_time": "2018-09-10T14:39:21.814913Z"
    }
   },
   "outputs": [
    {
     "name": "stdout",
     "output_type": "stream",
     "text": [
      "['1' '2' 'fizz' '4' 'buzz' 'fizz' '7' '8' 'fizz' 'buzz' '11' 'fizz' '13'\n",
      " '14' '15' '16' '17' 'fizz' '19' '20' 'fizz' '22' '23' 'fizz' 'buzz' '26'\n",
      " 'fizz' '28' '29' 'fizzbuzz' '31' '32' 'fizz' '34' 'buzz' 'fizz' '37' '38'\n",
      " 'fizz' 'buzz' '41' 'fizz' '43' '44' 'fizzbuzz' '46' '47' 'fizz' '49'\n",
      " 'buzz' 'fizz' '52' '53' 'fizz' 'buzz' '56' 'fizz' '58' '59' 'fizzbuzz'\n",
      " '61' '62' 'fizz' '64' '65' 'fizz' '67' '68' 'fizz' 'buzz' '71' 'fizz'\n",
      " '73' '74' 'fizzbuzz' '76' '77' 'fizz' '79' '80' 'fizz' '82' '83' 'fizz'\n",
      " 'buzz' '86' 'fizz' '88' '89' 'fizzbuzz' '91' '92' 'fizz' '94' 'buzz'\n",
      " 'fizz' '97' '98' 'fizz' '100']\n",
      "['1' '2' 'fizz' '4' 'buzz' 'fizz' '7' '8' 'fizz' 'buzz' '11' 'fizz' '13'\n",
      " '14' 'fizzbuzz' '16' '17' 'fizz' '19' 'buzz' 'fizz' '22' '23' 'fizz'\n",
      " 'buzz' '26' 'fizz' '28' '29' 'fizzbuzz' '31' '32' 'fizz' '34' 'buzz'\n",
      " 'fizz' '37' '38' 'fizz' 'buzz' '41' 'fizz' '43' '44' 'fizzbuzz' '46' '47'\n",
      " 'fizz' '49' 'buzz' 'fizz' '52' '53' 'fizz' 'buzz' '56' 'fizz' '58' '59'\n",
      " 'fizzbuzz' '61' '62' 'fizz' '64' 'buzz' 'fizz' '67' '68' 'fizz' 'buzz'\n",
      " '71' 'fizz' '73' '74' 'fizzbuzz' '76' '77' 'fizz' '79' 'buzz' 'fizz' '82'\n",
      " '83' 'fizz' 'buzz' '86' 'fizz' '88' '89' 'fizzbuzz' '91' '92' 'fizz' '94'\n",
      " 'buzz' 'fizz' '97' '98' 'fizz' 'buzz']\n",
      "0.95\n"
     ]
    }
   ],
   "source": [
    "def fizz_buzz(i, prediction):\n",
    "    return [str(i), \"fizz\", \"buzz\", \"fizzbuzz\"][prediction]\n",
    "numbers = np.arange(1, 101)\n",
    "teX = np.transpose(binary_encode(numbers, NUM_DIGITS))\n",
    "teY = model.predict_classes(teX)\n",
    "output = np.vectorize(fizz_buzz)(numbers, teY)\n",
    "print (output)\n",
    "\n",
    "\n",
    "answer = np.array([])\n",
    "for i in numbers:\n",
    "    if i % 15 == 0: answer = np.append(answer, \"fizzbuzz\")\n",
    "    elif i % 5 == 0: answer = np.append(answer, \"buzz\")\n",
    "    elif i % 3 == 0: answer = np.append(answer, \"fizz\")\n",
    "    else: answer = np.append(answer, str(i))\n",
    "print (answer)\n",
    "\n",
    "evaluate = np.array(answer == output)\n",
    "print (np.count_nonzero(evaluate == True) / 100)"
   ]
  },
  {
   "cell_type": "code",
   "execution_count": null,
   "metadata": {},
   "outputs": [],
   "source": []
  }
 ],
 "metadata": {
  "kernelspec": {
   "display_name": "Python 3",
   "language": "python",
   "name": "python3"
  },
  "language_info": {
   "codemirror_mode": {
    "name": "ipython",
    "version": 3
   },
   "file_extension": ".py",
   "mimetype": "text/x-python",
   "name": "python",
   "nbconvert_exporter": "python",
   "pygments_lexer": "ipython3",
   "version": "3.6.6"
  }
 },
 "nbformat": 4,
 "nbformat_minor": 2
}
