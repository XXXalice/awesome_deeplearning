{
 "cells": [
  {
   "cell_type": "code",
   "execution_count": 2,
   "metadata": {
    "ExecuteTime": {
     "end_time": "2018-09-11T14:24:52.285071Z",
     "start_time": "2018-09-11T14:24:52.281945Z"
    }
   },
   "outputs": [
    {
     "name": "stderr",
     "output_type": "stream",
     "text": [
      "Using TensorFlow backend.\n",
      "/usr/local/var/pyenv/versions/anaconda3-5.2.0/envs/ml/lib/python3.6/importlib/_bootstrap.py:219: RuntimeWarning: compiletime version 3.5 of module 'tensorflow.python.framework.fast_tensor_util' does not match runtime version 3.6\n",
      "  return f(*args, **kwds)\n"
     ]
    }
   ],
   "source": [
    "import numpy as np\n",
    "import base64\n",
    "from keras.models import Sequential\n",
    "from keras.layers import Dense, Dropout"
   ]
  },
  {
   "cell_type": "code",
   "execution_count": 124,
   "metadata": {
    "ExecuteTime": {
     "end_time": "2018-09-11T14:24:43.288464Z",
     "start_time": "2018-09-11T14:24:43.283722Z"
    }
   },
   "outputs": [
    {
     "name": "stdout",
     "output_type": "stream",
     "text": [
      "(923, 10)\n",
      "(923, 2)\n"
     ]
    }
   ],
   "source": [
    "def binary_encode(i, num_digits):\n",
    "    return np.array([i >> d & 1 for d in range(num_digits)])\n",
    "\n",
    "NUM_DIGITS = 10\n",
    "train_x = np.array([binary_encode(i, NUM_DIGITS) for i in range(101, 2 ** NUM_DIGITS)])\n",
    "\n",
    "train_x_raw = np.array([n for n in range(101, 2 ** NUM_DIGITS)])\n",
    "train_y = train_x_raw\n",
    "\n",
    "odd = np.array([0, 1])\n",
    "even = np.array([1, 0])\n",
    "train_y = np.array([\n",
    "    odd if n % 2 == 1 else even for n in train_y\n",
    "])\n",
    "\n",
    "print(train_x.shape)\n",
    "print(train_y.shape)"
   ]
  },
  {
   "cell_type": "code",
   "execution_count": 125,
   "metadata": {
    "scrolled": true
   },
   "outputs": [
    {
     "name": "stdout",
     "output_type": "stream",
     "text": [
      "Epoch 1/100\n",
      "923/923 [==============================] - 1s 782us/step - loss: 1.3013 - acc: 0.7627\n",
      "Epoch 2/100\n",
      "923/923 [==============================] - 0s 180us/step - loss: 0.0054 - acc: 1.0000\n",
      "Epoch 3/100\n",
      "923/923 [==============================] - 0s 185us/step - loss: 0.0010 - acc: 1.0000\n",
      "Epoch 4/100\n",
      "923/923 [==============================] - 0s 140us/step - loss: 4.6525e-04 - acc: 1.0000\n",
      "Epoch 5/100\n",
      "923/923 [==============================] - 0s 157us/step - loss: 2.6688e-04 - acc: 1.0000\n",
      "Epoch 6/100\n",
      "923/923 [==============================] - 0s 152us/step - loss: 1.7769e-04 - acc: 1.0000\n",
      "Epoch 7/100\n",
      "923/923 [==============================] - 0s 158us/step - loss: 1.3157e-04 - acc: 1.0000\n",
      "Epoch 8/100\n",
      "923/923 [==============================] - 0s 151us/step - loss: 1.0122e-04 - acc: 1.0000\n",
      "Epoch 9/100\n",
      "923/923 [==============================] - 0s 144us/step - loss: 8.1031e-05 - acc: 1.0000\n",
      "Epoch 10/100\n",
      "923/923 [==============================] - 0s 135us/step - loss: 6.7012e-05 - acc: 1.0000\n",
      "Epoch 11/100\n",
      "923/923 [==============================] - 0s 169us/step - loss: 5.6600e-05 - acc: 1.0000\n",
      "Epoch 12/100\n",
      "923/923 [==============================] - 0s 146us/step - loss: 4.8496e-05 - acc: 1.0000\n",
      "Epoch 13/100\n",
      "923/923 [==============================] - 0s 138us/step - loss: 4.2522e-05 - acc: 1.0000\n",
      "Epoch 14/100\n",
      "923/923 [==============================] - 0s 155us/step - loss: 3.7398e-05 - acc: 1.0000\n",
      "Epoch 15/100\n",
      "923/923 [==============================] - 0s 140us/step - loss: 3.2962e-05 - acc: 1.0000\n",
      "Epoch 16/100\n",
      "923/923 [==============================] - 0s 147us/step - loss: 2.9646e-05 - acc: 1.0000\n",
      "Epoch 17/100\n",
      "923/923 [==============================] - 0s 163us/step - loss: 2.6484e-05 - acc: 1.0000\n",
      "Epoch 18/100\n",
      "923/923 [==============================] - 0s 152us/step - loss: 2.4237e-05 - acc: 1.0000\n",
      "Epoch 19/100\n",
      "923/923 [==============================] - 0s 146us/step - loss: 2.2219e-05 - acc: 1.0000\n",
      "Epoch 20/100\n",
      "923/923 [==============================] - 0s 156us/step - loss: 2.0445e-05 - acc: 1.0000\n",
      "Epoch 21/100\n",
      "923/923 [==============================] - 0s 153us/step - loss: 1.8881e-05 - acc: 1.0000\n",
      "Epoch 22/100\n",
      "923/923 [==============================] - 0s 148us/step - loss: 1.7583e-05 - acc: 1.0000\n",
      "Epoch 23/100\n",
      "923/923 [==============================] - 0s 138us/step - loss: 1.6320e-05 - acc: 1.0000\n",
      "Epoch 24/100\n",
      "923/923 [==============================] - 0s 144us/step - loss: 1.5267e-05 - acc: 1.0000\n",
      "Epoch 25/100\n",
      "923/923 [==============================] - 0s 155us/step - loss: 1.4351e-05 - acc: 1.0000\n",
      "Epoch 26/100\n",
      "923/923 [==============================] - 0s 149us/step - loss: 1.3527e-05 - acc: 1.0000\n",
      "Epoch 27/100\n",
      "923/923 [==============================] - 0s 138us/step - loss: 1.2760e-05 - acc: 1.0000\n",
      "Epoch 28/100\n",
      "923/923 [==============================] - 0s 143us/step - loss: 1.2077e-05 - acc: 1.0000\n",
      "Epoch 29/100\n",
      "923/923 [==============================] - 0s 149us/step - loss: 1.1431e-05 - acc: 1.0000\n",
      "Epoch 30/100\n",
      "923/923 [==============================] - 0s 150us/step - loss: 1.0870e-05 - acc: 1.0000\n",
      "Epoch 31/100\n",
      "923/923 [==============================] - 0s 144us/step - loss: 1.0361e-05 - acc: 1.0000\n",
      "Epoch 32/100\n",
      "923/923 [==============================] - 0s 144us/step - loss: 9.8875e-06 - acc: 1.0000\n",
      "Epoch 33/100\n",
      "923/923 [==============================] - 0s 144us/step - loss: 9.4436e-06 - acc: 1.0000\n",
      "Epoch 34/100\n",
      "923/923 [==============================] - 0s 151us/step - loss: 9.0254e-06 - acc: 1.0000\n",
      "Epoch 35/100\n",
      "923/923 [==============================] - 0s 149us/step - loss: 8.6240e-06 - acc: 1.0000\n",
      "Epoch 36/100\n",
      "923/923 [==============================] - 0s 150us/step - loss: 8.2885e-06 - acc: 1.0000\n",
      "Epoch 37/100\n",
      "923/923 [==============================] - 0s 147us/step - loss: 7.9517e-06 - acc: 1.0000\n",
      "Epoch 38/100\n",
      "923/923 [==============================] - 0s 152us/step - loss: 7.6598e-06 - acc: 1.0000\n",
      "Epoch 39/100\n",
      "923/923 [==============================] - 0s 155us/step - loss: 7.3573e-06 - acc: 1.0000\n",
      "Epoch 40/100\n",
      "923/923 [==============================] - 0s 153us/step - loss: 7.0871e-06 - acc: 1.0000\n",
      "Epoch 41/100\n",
      "923/923 [==============================] - 0s 144us/step - loss: 6.8328e-06 - acc: 1.0000\n",
      "Epoch 42/100\n",
      "923/923 [==============================] - 0s 144us/step - loss: 6.5993e-06 - acc: 1.0000\n",
      "Epoch 43/100\n",
      "923/923 [==============================] - 0s 144us/step - loss: 6.3673e-06 - acc: 1.0000\n",
      "Epoch 44/100\n",
      "923/923 [==============================] - 0s 151us/step - loss: 6.1572e-06 - acc: 1.0000\n",
      "Epoch 45/100\n",
      "923/923 [==============================] - 0s 143us/step - loss: 5.9415e-06 - acc: 1.0000\n",
      "Epoch 46/100\n",
      "923/923 [==============================] - 0s 147us/step - loss: 5.7596e-06 - acc: 1.0000\n",
      "Epoch 47/100\n",
      "923/923 [==============================] - 0s 152us/step - loss: 5.5879e-06 - acc: 1.0000\n",
      "Epoch 48/100\n",
      "923/923 [==============================] - 0s 146us/step - loss: 5.4238e-06 - acc: 1.0000\n",
      "Epoch 49/100\n",
      "923/923 [==============================] - 0s 148us/step - loss: 5.2458e-06 - acc: 1.0000\n",
      "Epoch 50/100\n",
      "923/923 [==============================] - 0s 147us/step - loss: 5.0924e-06 - acc: 1.0000\n",
      "Epoch 51/100\n",
      "923/923 [==============================] - 0s 152us/step - loss: 4.9542e-06 - acc: 1.0000\n",
      "Epoch 52/100\n",
      "923/923 [==============================] - 0s 146us/step - loss: 4.8159e-06 - acc: 1.0000\n",
      "Epoch 53/100\n",
      "923/923 [==============================] - 0s 155us/step - loss: 4.6742e-06 - acc: 1.0000\n",
      "Epoch 54/100\n",
      "923/923 [==============================] - 0s 150us/step - loss: 4.5525e-06 - acc: 1.0000\n",
      "Epoch 55/100\n",
      "923/923 [==============================] - 0s 151us/step - loss: 4.4354e-06 - acc: 1.0000\n",
      "Epoch 56/100\n",
      "923/923 [==============================] - 0s 151us/step - loss: 4.3249e-06 - acc: 1.0000\n",
      "Epoch 57/100\n",
      "923/923 [==============================] - 0s 153us/step - loss: 4.2213e-06 - acc: 1.0000\n",
      "Epoch 58/100\n",
      "923/923 [==============================] - 0s 149us/step - loss: 4.1175e-06 - acc: 1.0000\n",
      "Epoch 59/100\n",
      "923/923 [==============================] - 0s 153us/step - loss: 4.0214e-06 - acc: 1.0000\n",
      "Epoch 60/100\n",
      "923/923 [==============================] - 0s 150us/step - loss: 3.9079e-06 - acc: 1.0000\n",
      "Epoch 61/100\n",
      "923/923 [==============================] - 0s 154us/step - loss: 3.8203e-06 - acc: 1.0000\n",
      "Epoch 62/100\n",
      "923/923 [==============================] - 0s 153us/step - loss: 3.7312e-06 - acc: 1.0000\n",
      "Epoch 63/100\n",
      "923/923 [==============================] - 0s 150us/step - loss: 3.6497e-06 - acc: 1.0000\n",
      "Epoch 64/100\n",
      "923/923 [==============================] - 0s 148us/step - loss: 3.5680e-06 - acc: 1.0000\n",
      "Epoch 65/100\n",
      "923/923 [==============================] - 0s 152us/step - loss: 3.4894e-06 - acc: 1.0000\n",
      "Epoch 66/100\n",
      "923/923 [==============================] - 0s 149us/step - loss: 3.4139e-06 - acc: 1.0000\n",
      "Epoch 67/100\n",
      "923/923 [==============================] - 0s 154us/step - loss: 3.3412e-06 - acc: 1.0000\n",
      "Epoch 68/100\n",
      "923/923 [==============================] - 0s 151us/step - loss: 3.2767e-06 - acc: 1.0000\n",
      "Epoch 69/100\n",
      "923/923 [==============================] - 0s 151us/step - loss: 3.2131e-06 - acc: 1.0000\n",
      "Epoch 70/100\n",
      "923/923 [==============================] - 0s 163us/step - loss: 3.1479e-06 - acc: 1.0000\n",
      "Epoch 71/100\n",
      "923/923 [==============================] - 0s 151us/step - loss: 3.0868e-06 - acc: 1.0000\n",
      "Epoch 72/100\n",
      "923/923 [==============================] - 0s 162us/step - loss: 3.0274e-06 - acc: 1.0000\n",
      "Epoch 73/100\n",
      "923/923 [==============================] - 0s 146us/step - loss: 2.9686e-06 - acc: 1.0000\n",
      "Epoch 74/100\n",
      "923/923 [==============================] - 0s 161us/step - loss: 2.9140e-06 - acc: 1.0000\n",
      "Epoch 75/100\n",
      "923/923 [==============================] - 0s 169us/step - loss: 2.8611e-06 - acc: 1.0000\n",
      "Epoch 76/100\n",
      "923/923 [==============================] - 0s 171us/step - loss: 2.8130e-06 - acc: 1.0000\n",
      "Epoch 77/100\n",
      "923/923 [==============================] - 0s 167us/step - loss: 2.7616e-06 - acc: 1.0000\n",
      "Epoch 78/100\n",
      "923/923 [==============================] - 0s 158us/step - loss: 2.7124e-06 - acc: 1.0000\n",
      "Epoch 79/100\n",
      "923/923 [==============================] - 0s 150us/step - loss: 2.6655e-06 - acc: 1.0000\n",
      "Epoch 80/100\n"
     ]
    },
    {
     "name": "stdout",
     "output_type": "stream",
     "text": [
      "923/923 [==============================] - 0s 148us/step - loss: 2.6197e-06 - acc: 1.0000\n",
      "Epoch 81/100\n",
      "923/923 [==============================] - 0s 156us/step - loss: 2.5740e-06 - acc: 1.0000\n",
      "Epoch 82/100\n",
      "923/923 [==============================] - 0s 137us/step - loss: 2.5319e-06 - acc: 1.0000\n",
      "Epoch 83/100\n",
      "923/923 [==============================] - 0s 146us/step - loss: 2.4885e-06 - acc: 1.0000\n",
      "Epoch 84/100\n",
      "923/923 [==============================] - 0s 142us/step - loss: 2.4473e-06 - acc: 1.0000\n",
      "Epoch 85/100\n",
      "923/923 [==============================] - 0s 141us/step - loss: 2.4085e-06 - acc: 1.0000\n",
      "Epoch 86/100\n",
      "923/923 [==============================] - 0s 143us/step - loss: 2.3720e-06 - acc: 1.0000\n",
      "Epoch 87/100\n",
      "923/923 [==============================] - 0s 138us/step - loss: 2.3361e-06 - acc: 1.0000\n",
      "Epoch 88/100\n",
      "923/923 [==============================] - 0s 147us/step - loss: 2.3003e-06 - acc: 1.0000\n",
      "Epoch 89/100\n",
      "923/923 [==============================] - 0s 149us/step - loss: 2.2664e-06 - acc: 1.0000\n",
      "Epoch 90/100\n",
      "923/923 [==============================] - 0s 141us/step - loss: 2.2314e-06 - acc: 1.0000\n",
      "Epoch 91/100\n",
      "923/923 [==============================] - 0s 140us/step - loss: 2.1971e-06 - acc: 1.0000\n",
      "Epoch 92/100\n",
      "923/923 [==============================] - 0s 150us/step - loss: 2.1656e-06 - acc: 1.0000\n",
      "Epoch 93/100\n",
      "923/923 [==============================] - 0s 147us/step - loss: 2.1348e-06 - acc: 1.0000\n",
      "Epoch 94/100\n",
      "923/923 [==============================] - 0s 155us/step - loss: 2.1049e-06 - acc: 1.0000\n",
      "Epoch 95/100\n",
      "923/923 [==============================] - 0s 146us/step - loss: 2.0760e-06 - acc: 1.0000\n",
      "Epoch 96/100\n",
      "923/923 [==============================] - 0s 139us/step - loss: 2.0469e-06 - acc: 1.0000\n",
      "Epoch 97/100\n",
      "923/923 [==============================] - 0s 145us/step - loss: 2.0163e-06 - acc: 1.0000\n",
      "Epoch 98/100\n",
      "923/923 [==============================] - 0s 149us/step - loss: 1.9867e-06 - acc: 1.0000\n",
      "Epoch 99/100\n",
      "923/923 [==============================] - 0s 146us/step - loss: 1.9617e-06 - acc: 1.0000\n",
      "Epoch 100/100\n",
      "923/923 [==============================] - 0s 143us/step - loss: 1.9360e-06 - acc: 1.0000\n"
     ]
    },
    {
     "data": {
      "text/plain": [
       "<keras.callbacks.History at 0x12967ab00>"
      ]
     },
     "execution_count": 125,
     "metadata": {},
     "output_type": "execute_result"
    }
   ],
   "source": [
    "model = Sequential()\n",
    "model.add(Dense(1000, input_dim=NUM_DIGITS, activation='relu'))\n",
    "model.add(Dense(1000, activation='relu'))\n",
    "model.add(Dense(2, activation='softmax'))\n",
    "model.compile(loss='categorical_crossentropy', optimizer='adagrad', metrics=['accuracy'])\n",
    "model.fit(train_x, train_y, epochs=100, batch_size=128)"
   ]
  },
  {
   "cell_type": "code",
   "execution_count": 119,
   "metadata": {
    "scrolled": false
   },
   "outputs": [
    {
     "ename": "ValueError",
     "evalue": "Error when checking input: expected dense_47_input to have shape (5049,) but got array with shape (1,)",
     "output_type": "error",
     "traceback": [
      "\u001b[0;31m---------------------------------------------------------------------------\u001b[0m",
      "\u001b[0;31mValueError\u001b[0m                                Traceback (most recent call last)",
      "\u001b[0;32m<ipython-input-119-054cb9828f59>\u001b[0m in \u001b[0;36m<module>\u001b[0;34m()\u001b[0m\n\u001b[0;32m----> 1\u001b[0;31m \u001b[0mmodel\u001b[0m\u001b[0;34m.\u001b[0m\u001b[0mfit\u001b[0m\u001b[0;34m(\u001b[0m\u001b[0mtrain_x\u001b[0m\u001b[0;34m,\u001b[0m \u001b[0mtrain_y\u001b[0m\u001b[0;34m,\u001b[0m \u001b[0mepochs\u001b[0m\u001b[0;34m=\u001b[0m\u001b[0;36m100\u001b[0m\u001b[0;34m,\u001b[0m \u001b[0mbatch_size\u001b[0m\u001b[0;34m=\u001b[0m\u001b[0;36m128\u001b[0m\u001b[0;34m)\u001b[0m\u001b[0;34m\u001b[0m\u001b[0m\n\u001b[0m",
      "\u001b[0;32m/usr/local/var/pyenv/versions/anaconda3-5.2.0/envs/ml/lib/python3.6/site-packages/keras/engine/training.py\u001b[0m in \u001b[0;36mfit\u001b[0;34m(self, x, y, batch_size, epochs, verbose, callbacks, validation_split, validation_data, shuffle, class_weight, sample_weight, initial_epoch, steps_per_epoch, validation_steps, **kwargs)\u001b[0m\n\u001b[1;32m    948\u001b[0m             \u001b[0msample_weight\u001b[0m\u001b[0;34m=\u001b[0m\u001b[0msample_weight\u001b[0m\u001b[0;34m,\u001b[0m\u001b[0;34m\u001b[0m\u001b[0m\n\u001b[1;32m    949\u001b[0m             \u001b[0mclass_weight\u001b[0m\u001b[0;34m=\u001b[0m\u001b[0mclass_weight\u001b[0m\u001b[0;34m,\u001b[0m\u001b[0;34m\u001b[0m\u001b[0m\n\u001b[0;32m--> 950\u001b[0;31m             batch_size=batch_size)\n\u001b[0m\u001b[1;32m    951\u001b[0m         \u001b[0;31m# Prepare validation data.\u001b[0m\u001b[0;34m\u001b[0m\u001b[0;34m\u001b[0m\u001b[0m\n\u001b[1;32m    952\u001b[0m         \u001b[0mdo_validation\u001b[0m \u001b[0;34m=\u001b[0m \u001b[0;32mFalse\u001b[0m\u001b[0;34m\u001b[0m\u001b[0m\n",
      "\u001b[0;32m/usr/local/var/pyenv/versions/anaconda3-5.2.0/envs/ml/lib/python3.6/site-packages/keras/engine/training.py\u001b[0m in \u001b[0;36m_standardize_user_data\u001b[0;34m(self, x, y, sample_weight, class_weight, check_array_lengths, batch_size)\u001b[0m\n\u001b[1;32m    747\u001b[0m             \u001b[0mfeed_input_shapes\u001b[0m\u001b[0;34m,\u001b[0m\u001b[0;34m\u001b[0m\u001b[0m\n\u001b[1;32m    748\u001b[0m             \u001b[0mcheck_batch_axis\u001b[0m\u001b[0;34m=\u001b[0m\u001b[0;32mFalse\u001b[0m\u001b[0;34m,\u001b[0m  \u001b[0;31m# Don't enforce the batch size.\u001b[0m\u001b[0;34m\u001b[0m\u001b[0m\n\u001b[0;32m--> 749\u001b[0;31m             exception_prefix='input')\n\u001b[0m\u001b[1;32m    750\u001b[0m \u001b[0;34m\u001b[0m\u001b[0m\n\u001b[1;32m    751\u001b[0m         \u001b[0;32mif\u001b[0m \u001b[0my\u001b[0m \u001b[0;32mis\u001b[0m \u001b[0;32mnot\u001b[0m \u001b[0;32mNone\u001b[0m\u001b[0;34m:\u001b[0m\u001b[0;34m\u001b[0m\u001b[0m\n",
      "\u001b[0;32m/usr/local/var/pyenv/versions/anaconda3-5.2.0/envs/ml/lib/python3.6/site-packages/keras/engine/training_utils.py\u001b[0m in \u001b[0;36mstandardize_input_data\u001b[0;34m(data, names, shapes, check_batch_axis, exception_prefix)\u001b[0m\n\u001b[1;32m    135\u001b[0m                             \u001b[0;34m': expected '\u001b[0m \u001b[0;34m+\u001b[0m \u001b[0mnames\u001b[0m\u001b[0;34m[\u001b[0m\u001b[0mi\u001b[0m\u001b[0;34m]\u001b[0m \u001b[0;34m+\u001b[0m \u001b[0;34m' to have shape '\u001b[0m \u001b[0;34m+\u001b[0m\u001b[0;34m\u001b[0m\u001b[0m\n\u001b[1;32m    136\u001b[0m                             \u001b[0mstr\u001b[0m\u001b[0;34m(\u001b[0m\u001b[0mshape\u001b[0m\u001b[0;34m)\u001b[0m \u001b[0;34m+\u001b[0m \u001b[0;34m' but got array with shape '\u001b[0m \u001b[0;34m+\u001b[0m\u001b[0;34m\u001b[0m\u001b[0m\n\u001b[0;32m--> 137\u001b[0;31m                             str(data_shape))\n\u001b[0m\u001b[1;32m    138\u001b[0m     \u001b[0;32mreturn\u001b[0m \u001b[0mdata\u001b[0m\u001b[0;34m\u001b[0m\u001b[0m\n\u001b[1;32m    139\u001b[0m \u001b[0;34m\u001b[0m\u001b[0m\n",
      "\u001b[0;31mValueError\u001b[0m: Error when checking input: expected dense_47_input to have shape (5049,) but got array with shape (1,)"
     ]
    }
   ],
   "source": []
  },
  {
   "cell_type": "code",
   "execution_count": 140,
   "metadata": {},
   "outputs": [
    {
     "name": "stdout",
     "output_type": "stream",
     "text": [
      "['even', 'odd', 'even', 'odd', 'even', 'odd', 'even', 'odd', 'even', 'odd', 'even', 'odd', 'even', 'odd', 'even', 'odd', 'even', 'odd', 'even', 'odd', 'even', 'odd', 'even', 'odd', 'even', 'odd', 'even', 'odd', 'even', 'odd', 'even', 'odd', 'even', 'odd', 'even', 'odd', 'even', 'odd', 'even', 'odd', 'even', 'odd', 'even', 'odd', 'even', 'odd', 'even', 'odd', 'even', 'odd', 'even', 'odd', 'even', 'odd', 'even', 'odd', 'even', 'odd', 'even', 'odd', 'even', 'odd', 'even', 'odd', 'even', 'odd', 'even', 'odd', 'even', 'odd', 'even', 'odd', 'even', 'odd', 'even', 'odd', 'even', 'odd', 'even', 'odd', 'even', 'odd', 'even', 'odd', 'even', 'odd', 'even', 'odd', 'even', 'odd', 'even', 'odd', 'even', 'odd', 'even', 'odd', 'even', 'odd', 'even', 'odd', 'even', 'odd', 'even', 'odd', 'even', 'odd', 'even', 'odd', 'even', 'odd', 'even', 'odd', 'even', 'odd', 'even', 'odd', 'even', 'odd', 'even', 'odd', 'even', 'odd', 'even', 'odd', 'even', 'odd', 'even', 'odd', 'even', 'odd', 'even', 'odd', 'even', 'odd', 'even', 'odd', 'even', 'odd', 'even', 'odd', 'even', 'odd', 'even', 'odd', 'even', 'odd', 'even', 'odd', 'even', 'odd', 'even', 'odd', 'even', 'odd', 'even', 'odd', 'even', 'odd', 'even', 'odd', 'even', 'odd', 'even', 'odd', 'even', 'odd', 'even', 'odd', 'even', 'odd', 'even', 'odd', 'even', 'odd', 'even', 'odd', 'even', 'odd', 'even', 'odd', 'even', 'odd', 'even', 'odd', 'even', 'odd', 'even', 'odd', 'even', 'odd', 'even', 'odd', 'even', 'odd', 'even', 'odd', 'even', 'odd', 'even', 'odd', 'even', 'odd', 'even', 'odd', 'even', 'odd', 'even', 'odd', 'even', 'odd', 'even', 'odd', 'even', 'odd', 'even', 'odd', 'even', 'odd', 'even', 'odd', 'even', 'odd', 'even', 'odd', 'even', 'odd', 'even', 'odd', 'even', 'odd', 'even', 'odd', 'even', 'odd', 'even', 'odd', 'even', 'odd', 'even', 'odd', 'even', 'odd', 'even', 'odd', 'even', 'odd', 'even', 'odd', 'even', 'odd', 'even', 'odd', 'even', 'odd', 'even', 'odd', 'even', 'odd', 'even', 'odd', 'even', 'odd', 'even', 'odd', 'even', 'odd', 'even', 'odd', 'even', 'odd', 'even', 'odd', 'even', 'odd', 'even', 'odd', 'even', 'odd', 'even', 'odd', 'even', 'odd', 'even', 'odd', 'even', 'odd', 'even', 'odd', 'even', 'odd', 'even', 'odd', 'even', 'odd', 'even', 'odd', 'even', 'odd', 'even', 'odd', 'even', 'odd', 'even', 'odd', 'even', 'odd', 'even', 'odd', 'even', 'odd', 'even', 'odd', 'even', 'odd', 'even', 'odd', 'even', 'odd', 'even', 'odd', 'even', 'odd', 'even', 'odd', 'even', 'odd', 'even', 'odd', 'even', 'odd', 'even', 'odd', 'even', 'odd', 'even', 'odd', 'even', 'odd', 'even', 'odd', 'even', 'odd', 'even', 'odd', 'even', 'odd', 'even', 'odd', 'even', 'odd', 'even', 'odd', 'even', 'odd', 'even', 'odd', 'even', 'odd', 'even', 'odd', 'even', 'odd', 'even', 'odd', 'even', 'odd', 'even', 'odd', 'even', 'odd', 'even', 'odd', 'even', 'odd', 'even', 'odd', 'even', 'odd', 'even', 'odd', 'even', 'odd', 'even', 'odd', 'even', 'odd', 'even', 'odd', 'even', 'odd', 'even', 'odd', 'even', 'odd', 'even', 'odd', 'even', 'odd', 'even', 'odd', 'even', 'odd', 'even', 'odd', 'even', 'odd', 'even', 'odd', 'even', 'odd', 'even', 'odd', 'even', 'odd', 'even', 'odd', 'even', 'odd', 'even', 'odd', 'even', 'odd', 'even', 'odd', 'even', 'odd', 'even', 'odd', 'even', 'odd', 'even', 'odd', 'even', 'odd', 'even', 'odd', 'even', 'odd', 'even', 'odd', 'even', 'odd', 'even', 'odd', 'even', 'odd', 'even', 'odd', 'even', 'odd', 'even', 'odd', 'even', 'odd', 'even', 'odd', 'even', 'odd', 'even', 'odd', 'even', 'odd', 'even', 'odd', 'even', 'odd', 'even', 'odd', 'even', 'odd', 'even', 'odd', 'even', 'odd', 'even', 'odd', 'even', 'odd', 'even', 'odd', 'even', 'odd', 'even', 'odd', 'even', 'odd', 'even', 'odd', 'even', 'odd', 'even', 'odd', 'even', 'odd', 'even', 'odd', 'even', 'odd', 'even', 'odd', 'even', 'odd', 'even', 'odd', 'even', 'odd', 'even', 'odd', 'even', 'odd', 'even', 'odd', 'even', 'odd', 'even', 'odd', 'even', 'odd', 'even', 'odd', 'even', 'odd', 'even', 'odd', 'even', 'odd', 'even', 'odd', 'even', 'odd', 'even', 'odd', 'even', 'odd', 'even', 'odd', 'even', 'odd', 'even', 'odd', 'even', 'odd', 'even', 'odd', 'even', 'odd', 'even', 'odd', 'even', 'odd', 'even', 'odd', 'even', 'odd', 'even', 'odd', 'even', 'odd', 'even', 'odd', 'even', 'odd', 'even', 'odd', 'even', 'odd', 'even', 'odd', 'even', 'odd', 'even', 'odd', 'even', 'odd', 'even', 'odd', 'even', 'odd', 'even', 'odd', 'even', 'odd', 'even', 'odd', 'even', 'odd', 'even', 'odd', 'even', 'odd', 'even', 'odd', 'even', 'odd', 'even', 'odd', 'even', 'odd', 'even', 'odd', 'even', 'odd', 'even', 'odd', 'even', 'odd', 'even', 'odd', 'even', 'odd', 'even', 'odd', 'even', 'odd', 'even', 'odd', 'even', 'odd', 'even', 'odd', 'even', 'odd', 'even', 'odd', 'even', 'odd', 'even', 'odd', 'even', 'odd', 'even', 'odd', 'even', 'odd', 'even', 'odd', 'even', 'odd', 'even', 'odd', 'even', 'odd', 'even', 'odd', 'even', 'odd', 'even', 'odd', 'even', 'odd', 'even', 'odd', 'even', 'odd', 'even', 'odd', 'even', 'odd', 'even', 'odd', 'even', 'odd', 'even', 'odd', 'even', 'odd', 'even', 'odd', 'even', 'odd', 'even', 'odd', 'even', 'odd', 'even', 'odd', 'even', 'odd', 'even', 'odd', 'even', 'odd', 'even', 'odd', 'even', 'odd', 'even', 'odd', 'even', 'odd', 'even', 'odd', 'even', 'odd', 'even', 'odd', 'even', 'odd', 'even', 'odd', 'even', 'odd', 'even', 'odd', 'even', 'odd', 'even', 'odd', 'even', 'odd', 'even', 'odd', 'even', 'odd', 'even', 'odd', 'even', 'odd', 'even', 'odd', 'even', 'odd', 'even', 'odd', 'even', 'odd', 'even', 'odd', 'even', 'odd', 'even', 'odd', 'even', 'odd', 'even', 'odd', 'even', 'odd', 'even', 'odd', 'even', 'odd', 'even', 'odd', 'even', 'odd', 'even', 'odd', 'even', 'odd', 'even', 'odd', 'even', 'odd', 'even', 'odd', 'even', 'odd', 'even', 'odd', 'even', 'odd', 'even', 'odd', 'even', 'odd', 'even', 'odd', 'even', 'odd', 'even', 'odd', 'even', 'odd', 'even', 'odd', 'even', 'odd', 'even', 'odd', 'even', 'odd', 'even', 'odd', 'even', 'odd', 'even', 'odd', 'even', 'odd', 'even', 'odd', 'even', 'odd', 'even', 'odd', 'even', 'odd', 'even', 'odd', 'even', 'odd', 'even', 'odd', 'even', 'odd', 'even', 'odd', 'even', 'odd', 'even', 'odd', 'even', 'odd', 'even', 'odd', 'even', 'odd', 'even', 'odd', 'even', 'odd', 'even', 'odd', 'even', 'odd', 'even', 'odd', 'even', 'odd', 'even', 'odd', 'even', 'odd', 'even', 'odd', 'even', 'odd', 'even', 'odd', 'even', 'odd', 'even', 'odd', 'even', 'odd', 'even', 'odd', 'even', 'odd', 'even', 'odd', 'even', 'odd', 'even', 'odd', 'even', 'odd', 'even', 'odd', 'even', 'odd', 'even', 'odd', 'even', 'odd', 'even', 'odd', 'even', 'odd', 'even', 'odd', 'even', 'odd', 'even', 'odd', 'even', 'odd', 'even', 'odd', 'even', 'odd', 'even', 'odd', 'even', 'odd', 'even', 'odd', 'even', 'odd', 'even', 'odd', 'even', 'odd', 'even', 'odd', 'even', 'odd', 'even', 'odd', 'even', 'odd', 'even', 'odd', 'even', 'odd', 'even', 'odd', 'even', 'odd', 'even', 'odd', 'even', 'odd', 'even', 'odd', 'even', 'odd', 'even', 'odd', 'even', 'odd', 'even', 'odd', 'even', 'odd', 'even', 'odd', 'even', 'odd', 'even', 'odd', 'even', 'odd', 'even', 'odd', 'even', 'odd', 'even', 'odd', 'even', 'odd', 'even', 'odd', 'even', 'odd', 'even', 'odd', 'even', 'odd', 'even', 'odd', 'even', 'odd', 'even', 'odd', 'even', 'odd', 'even', 'odd', 'even', 'odd', 'even', 'odd', 'even', 'odd', 'even', 'odd', 'even', 'odd', 'even', 'odd', 'even', 'odd', 'even', 'odd', 'even', 'odd', 'even', 'odd', 'even', 'odd', 'even', 'odd', 'even', 'odd', 'even', 'odd', 'even', 'odd', 'even', 'odd', 'even', 'odd', 'even', 'odd', 'even', 'odd', 'even', 'odd', 'even', 'odd', 'even', 'odd', 'even', 'odd', 'even', 'odd', 'even', 'odd', 'even', 'odd', 'even', 'odd', 'even', 'odd', 'even', 'odd', 'even', 'odd', 'even', 'odd', 'even', 'odd']\n"
     ]
    }
   ],
   "source": [
    "data = np.array([binary_encode(i, NUM_DIGITS) for i in range(2 ** NUM_DIGITS)])\n",
    "pred = model.predict(data)\n",
    "ans = []\n",
    "\n",
    "for res in pred:\n",
    "    if res.argmax() == 0:\n",
    "        ans.append('even')\n",
    "    elif res.argmax() == 1:\n",
    "        ans.append('odd')\n",
    "        \n",
    "print(ans)"
   ]
  },
  {
   "cell_type": "code",
   "execution_count": null,
   "metadata": {},
   "outputs": [],
   "source": []
  }
 ],
 "metadata": {
  "kernelspec": {
   "display_name": "Python 3",
   "language": "python",
   "name": "python3"
  },
  "language_info": {
   "codemirror_mode": {
    "name": "ipython",
    "version": 3
   },
   "file_extension": ".py",
   "mimetype": "text/x-python",
   "name": "python",
   "nbconvert_exporter": "python",
   "pygments_lexer": "ipython3",
   "version": "3.6.6"
  }
 },
 "nbformat": 4,
 "nbformat_minor": 2
}
