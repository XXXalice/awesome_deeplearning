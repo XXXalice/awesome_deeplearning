{
 "cells": [
  {
   "cell_type": "code",
   "execution_count": 1,
   "metadata": {
    "ExecuteTime": {
     "end_time": "2018-09-11T14:24:52.285071Z",
     "start_time": "2018-09-11T14:24:52.281945Z"
    }
   },
   "outputs": [
    {
     "name": "stderr",
     "output_type": "stream",
     "text": [
      "Using TensorFlow backend.\n",
      "/usr/local/var/pyenv/versions/anaconda3-5.2.0/envs/ml/lib/python3.6/importlib/_bootstrap.py:219: RuntimeWarning: compiletime version 3.5 of module 'tensorflow.python.framework.fast_tensor_util' does not match runtime version 3.6\n",
      "  return f(*args, **kwds)\n"
     ]
    }
   ],
   "source": [
    "import numpy as np\n",
    "import base64\n",
    "from keras.models import Sequential\n",
    "from keras.layers import Dense, Dropout"
   ]
  },
  {
   "cell_type": "code",
   "execution_count": 3,
   "metadata": {
    "ExecuteTime": {
     "end_time": "2018-09-11T14:24:43.288464Z",
     "start_time": "2018-09-11T14:24:43.283722Z"
    }
   },
   "outputs": [
    {
     "name": "stdout",
     "output_type": "stream",
     "text": [
      "(155, 8)\n",
      "(155, 2)\n"
     ]
    }
   ],
   "source": [
    "def binary_encode(i, num_digits):\n",
    "    return np.array([i >> d & 1 for d in range(num_digits)])\n",
    "\n",
    "NUM_DIGITS = 8\n",
    "train_x = np.array([binary_encode(i, NUM_DIGITS) for i in range(101, 2 ** NUM_DIGITS)])\n",
    "\n",
    "train_x_raw = np.array([n for n in range(101, 2 ** NUM_DIGITS)])\n",
    "train_y = train_x_raw\n",
    "\n",
    "odd = np.array([0, 1])\n",
    "even = np.array([1, 0])\n",
    "train_y = np.array([\n",
    "    odd if n % 2 == 1 else even for n in train_y\n",
    "])\n",
    "\n",
    "print(train_x.shape)\n",
    "print(train_y.shape)"
   ]
  },
  {
   "cell_type": "code",
   "execution_count": 4,
   "metadata": {
    "scrolled": true
   },
   "outputs": [
    {
     "name": "stdout",
     "output_type": "stream",
     "text": [
      "Epoch 1/100\n",
      "155/155 [==============================] - 0s 2ms/step - loss: 0.7126 - acc: 0.4710\n",
      "Epoch 2/100\n",
      "155/155 [==============================] - 0s 26us/step - loss: 0.6360 - acc: 0.6774\n",
      "Epoch 3/100\n",
      "155/155 [==============================] - 0s 33us/step - loss: 0.5810 - acc: 0.7677\n",
      "Epoch 4/100\n",
      "155/155 [==============================] - 0s 37us/step - loss: 0.5271 - acc: 0.8710\n",
      "Epoch 5/100\n",
      "155/155 [==============================] - 0s 28us/step - loss: 0.4757 - acc: 0.9161\n",
      "Epoch 6/100\n",
      "155/155 [==============================] - 0s 83us/step - loss: 0.4259 - acc: 0.9355\n",
      "Epoch 7/100\n",
      "155/155 [==============================] - 0s 35us/step - loss: 0.3759 - acc: 0.9742\n",
      "Epoch 8/100\n",
      "155/155 [==============================] - 0s 71us/step - loss: 0.3285 - acc: 0.9935\n",
      "Epoch 9/100\n",
      "155/155 [==============================] - 0s 58us/step - loss: 0.2889 - acc: 0.9935\n",
      "Epoch 10/100\n",
      "155/155 [==============================] - 0s 28us/step - loss: 0.2500 - acc: 1.0000\n",
      "Epoch 11/100\n",
      "155/155 [==============================] - 0s 112us/step - loss: 0.2155 - acc: 1.0000\n",
      "Epoch 12/100\n",
      "155/155 [==============================] - 0s 30us/step - loss: 0.1890 - acc: 1.0000\n",
      "Epoch 13/100\n",
      "155/155 [==============================] - 0s 41us/step - loss: 0.1599 - acc: 1.0000\n",
      "Epoch 14/100\n",
      "155/155 [==============================] - 0s 37us/step - loss: 0.1399 - acc: 1.0000\n",
      "Epoch 15/100\n",
      "155/155 [==============================] - 0s 25us/step - loss: 0.1197 - acc: 1.0000\n",
      "Epoch 16/100\n",
      "155/155 [==============================] - 0s 32us/step - loss: 0.1052 - acc: 1.0000\n",
      "Epoch 17/100\n",
      "155/155 [==============================] - 0s 31us/step - loss: 0.0918 - acc: 1.0000\n",
      "Epoch 18/100\n",
      "155/155 [==============================] - 0s 27us/step - loss: 0.0812 - acc: 1.0000\n",
      "Epoch 19/100\n",
      "155/155 [==============================] - 0s 30us/step - loss: 0.0718 - acc: 1.0000\n",
      "Epoch 20/100\n",
      "155/155 [==============================] - 0s 23us/step - loss: 0.0642 - acc: 1.0000\n",
      "Epoch 21/100\n",
      "155/155 [==============================] - 0s 22us/step - loss: 0.0576 - acc: 1.0000\n",
      "Epoch 22/100\n",
      "155/155 [==============================] - 0s 26us/step - loss: 0.0518 - acc: 1.0000\n",
      "Epoch 23/100\n",
      "155/155 [==============================] - 0s 24us/step - loss: 0.0470 - acc: 1.0000\n",
      "Epoch 24/100\n",
      "155/155 [==============================] - 0s 23us/step - loss: 0.0431 - acc: 1.0000\n",
      "Epoch 25/100\n",
      "155/155 [==============================] - 0s 24us/step - loss: 0.0390 - acc: 1.0000\n",
      "Epoch 26/100\n",
      "155/155 [==============================] - 0s 24us/step - loss: 0.0354 - acc: 1.0000\n",
      "Epoch 27/100\n",
      "155/155 [==============================] - 0s 26us/step - loss: 0.0328 - acc: 1.0000\n",
      "Epoch 28/100\n",
      "155/155 [==============================] - 0s 27us/step - loss: 0.0303 - acc: 1.0000\n",
      "Epoch 29/100\n",
      "155/155 [==============================] - 0s 27us/step - loss: 0.0280 - acc: 1.0000\n",
      "Epoch 30/100\n",
      "155/155 [==============================] - 0s 27us/step - loss: 0.0263 - acc: 1.0000\n",
      "Epoch 31/100\n",
      "155/155 [==============================] - 0s 31us/step - loss: 0.0246 - acc: 1.0000\n",
      "Epoch 32/100\n",
      "155/155 [==============================] - 0s 31us/step - loss: 0.0232 - acc: 1.0000\n",
      "Epoch 33/100\n",
      "155/155 [==============================] - 0s 27us/step - loss: 0.0217 - acc: 1.0000\n",
      "Epoch 34/100\n",
      "155/155 [==============================] - 0s 29us/step - loss: 0.0204 - acc: 1.0000\n",
      "Epoch 35/100\n",
      "155/155 [==============================] - 0s 27us/step - loss: 0.0192 - acc: 1.0000\n",
      "Epoch 36/100\n",
      "155/155 [==============================] - 0s 42us/step - loss: 0.0182 - acc: 1.0000\n",
      "Epoch 37/100\n",
      "155/155 [==============================] - 0s 22us/step - loss: 0.0172 - acc: 1.0000\n",
      "Epoch 38/100\n",
      "155/155 [==============================] - 0s 24us/step - loss: 0.0163 - acc: 1.0000\n",
      "Epoch 39/100\n",
      "155/155 [==============================] - 0s 27us/step - loss: 0.0155 - acc: 1.0000\n",
      "Epoch 40/100\n",
      "155/155 [==============================] - 0s 27us/step - loss: 0.0148 - acc: 1.0000\n",
      "Epoch 41/100\n",
      "155/155 [==============================] - 0s 28us/step - loss: 0.0141 - acc: 1.0000\n",
      "Epoch 42/100\n",
      "155/155 [==============================] - 0s 28us/step - loss: 0.0134 - acc: 1.0000\n",
      "Epoch 43/100\n",
      "155/155 [==============================] - 0s 29us/step - loss: 0.0129 - acc: 1.0000\n",
      "Epoch 44/100\n",
      "155/155 [==============================] - 0s 29us/step - loss: 0.0123 - acc: 1.0000\n",
      "Epoch 45/100\n",
      "155/155 [==============================] - 0s 21us/step - loss: 0.0118 - acc: 1.0000\n",
      "Epoch 46/100\n",
      "155/155 [==============================] - 0s 23us/step - loss: 0.0113 - acc: 1.0000\n",
      "Epoch 47/100\n",
      "155/155 [==============================] - 0s 28us/step - loss: 0.0109 - acc: 1.0000\n",
      "Epoch 48/100\n",
      "155/155 [==============================] - 0s 32us/step - loss: 0.0104 - acc: 1.0000\n",
      "Epoch 49/100\n",
      "155/155 [==============================] - 0s 23us/step - loss: 0.0100 - acc: 1.0000\n",
      "Epoch 50/100\n",
      "155/155 [==============================] - 0s 24us/step - loss: 0.0096 - acc: 1.0000\n",
      "Epoch 51/100\n",
      "155/155 [==============================] - ETA: 0s - loss: 0.0095 - acc: 1.000 - 0s 37us/step - loss: 0.0093 - acc: 1.0000\n",
      "Epoch 52/100\n",
      "155/155 [==============================] - 0s 24us/step - loss: 0.0090 - acc: 1.0000\n",
      "Epoch 53/100\n",
      "155/155 [==============================] - 0s 29us/step - loss: 0.0087 - acc: 1.0000\n",
      "Epoch 54/100\n",
      "155/155 [==============================] - 0s 32us/step - loss: 0.0085 - acc: 1.0000\n",
      "Epoch 55/100\n",
      "155/155 [==============================] - 0s 33us/step - loss: 0.0082 - acc: 1.0000\n",
      "Epoch 56/100\n",
      "155/155 [==============================] - 0s 29us/step - loss: 0.0079 - acc: 1.0000\n",
      "Epoch 57/100\n",
      "155/155 [==============================] - 0s 24us/step - loss: 0.0077 - acc: 1.0000\n",
      "Epoch 58/100\n",
      "155/155 [==============================] - 0s 25us/step - loss: 0.0074 - acc: 1.0000\n",
      "Epoch 59/100\n",
      "155/155 [==============================] - 0s 24us/step - loss: 0.0072 - acc: 1.0000\n",
      "Epoch 60/100\n",
      "155/155 [==============================] - 0s 23us/step - loss: 0.0070 - acc: 1.0000\n",
      "Epoch 61/100\n",
      "155/155 [==============================] - 0s 23us/step - loss: 0.0068 - acc: 1.0000\n",
      "Epoch 62/100\n",
      "155/155 [==============================] - 0s 22us/step - loss: 0.0066 - acc: 1.0000\n",
      "Epoch 63/100\n",
      "155/155 [==============================] - 0s 26us/step - loss: 0.0064 - acc: 1.0000\n",
      "Epoch 64/100\n",
      "155/155 [==============================] - 0s 28us/step - loss: 0.0063 - acc: 1.0000\n",
      "Epoch 65/100\n",
      "155/155 [==============================] - 0s 23us/step - loss: 0.0061 - acc: 1.0000\n",
      "Epoch 66/100\n",
      "155/155 [==============================] - 0s 33us/step - loss: 0.0059 - acc: 1.0000\n",
      "Epoch 67/100\n",
      "155/155 [==============================] - 0s 48us/step - loss: 0.0058 - acc: 1.0000\n",
      "Epoch 68/100\n",
      "155/155 [==============================] - 0s 26us/step - loss: 0.0056 - acc: 1.0000\n",
      "Epoch 69/100\n",
      "155/155 [==============================] - 0s 31us/step - loss: 0.0055 - acc: 1.0000\n",
      "Epoch 70/100\n",
      "155/155 [==============================] - 0s 36us/step - loss: 0.0053 - acc: 1.0000\n",
      "Epoch 71/100\n",
      "155/155 [==============================] - 0s 33us/step - loss: 0.0052 - acc: 1.0000\n",
      "Epoch 72/100\n",
      "155/155 [==============================] - 0s 30us/step - loss: 0.0051 - acc: 1.0000\n",
      "Epoch 73/100\n",
      "155/155 [==============================] - 0s 35us/step - loss: 0.0050 - acc: 1.0000\n",
      "Epoch 74/100\n",
      "155/155 [==============================] - 0s 29us/step - loss: 0.0048 - acc: 1.0000\n",
      "Epoch 75/100\n",
      "155/155 [==============================] - 0s 26us/step - loss: 0.0047 - acc: 1.0000\n",
      "Epoch 76/100\n",
      "155/155 [==============================] - 0s 26us/step - loss: 0.0046 - acc: 1.0000\n",
      "Epoch 77/100\n",
      "155/155 [==============================] - 0s 25us/step - loss: 0.0045 - acc: 1.0000\n",
      "Epoch 78/100\n",
      "155/155 [==============================] - 0s 28us/step - loss: 0.0044 - acc: 1.0000\n",
      "Epoch 79/100\n",
      "155/155 [==============================] - 0s 24us/step - loss: 0.0043 - acc: 1.0000\n",
      "Epoch 80/100\n",
      "155/155 [==============================] - 0s 28us/step - loss: 0.0042 - acc: 1.0000\n",
      "Epoch 81/100\n",
      "155/155 [==============================] - 0s 23us/step - loss: 0.0041 - acc: 1.0000\n",
      "Epoch 82/100\n",
      "155/155 [==============================] - 0s 26us/step - loss: 0.0041 - acc: 1.0000\n",
      "Epoch 83/100\n",
      "155/155 [==============================] - 0s 35us/step - loss: 0.0040 - acc: 1.0000\n",
      "Epoch 84/100\n"
     ]
    },
    {
     "name": "stdout",
     "output_type": "stream",
     "text": [
      "155/155 [==============================] - 0s 28us/step - loss: 0.0039 - acc: 1.0000\n",
      "Epoch 85/100\n",
      "155/155 [==============================] - 0s 34us/step - loss: 0.0038 - acc: 1.0000\n",
      "Epoch 86/100\n",
      "155/155 [==============================] - 0s 27us/step - loss: 0.0037 - acc: 1.0000\n",
      "Epoch 87/100\n",
      "155/155 [==============================] - 0s 24us/step - loss: 0.0037 - acc: 1.0000\n",
      "Epoch 88/100\n",
      "155/155 [==============================] - 0s 26us/step - loss: 0.0036 - acc: 1.0000\n",
      "Epoch 89/100\n",
      "155/155 [==============================] - 0s 35us/step - loss: 0.0035 - acc: 1.0000\n",
      "Epoch 90/100\n",
      "155/155 [==============================] - 0s 50us/step - loss: 0.0034 - acc: 1.0000\n",
      "Epoch 91/100\n",
      "155/155 [==============================] - 0s 30us/step - loss: 0.0034 - acc: 1.0000\n",
      "Epoch 92/100\n",
      "155/155 [==============================] - 0s 36us/step - loss: 0.0033 - acc: 1.0000\n",
      "Epoch 93/100\n",
      "155/155 [==============================] - 0s 32us/step - loss: 0.0032 - acc: 1.0000\n",
      "Epoch 94/100\n",
      "155/155 [==============================] - 0s 27us/step - loss: 0.0032 - acc: 1.0000\n",
      "Epoch 95/100\n",
      "155/155 [==============================] - 0s 41us/step - loss: 0.0031 - acc: 1.0000\n",
      "Epoch 96/100\n",
      "155/155 [==============================] - 0s 26us/step - loss: 0.0031 - acc: 1.0000\n",
      "Epoch 97/100\n",
      "155/155 [==============================] - 0s 25us/step - loss: 0.0030 - acc: 1.0000\n",
      "Epoch 98/100\n",
      "155/155 [==============================] - 0s 25us/step - loss: 0.0030 - acc: 1.0000\n",
      "Epoch 99/100\n",
      "155/155 [==============================] - 0s 26us/step - loss: 0.0029 - acc: 1.0000\n",
      "Epoch 100/100\n",
      "155/155 [==============================] - 0s 43us/step - loss: 0.0029 - acc: 1.0000\n"
     ]
    },
    {
     "data": {
      "text/plain": [
       "<keras.callbacks.History at 0x11f2aae48>"
      ]
     },
     "execution_count": 4,
     "metadata": {},
     "output_type": "execute_result"
    }
   ],
   "source": [
    "model = Sequential()\n",
    "model.add(Dense(32, input_dim=NUM_DIGITS, activation='relu'))\n",
    "model.add(Dense(32, activation='relu'))\n",
    "model.add(Dense(2, activation='softmax'))\n",
    "model.compile(loss='categorical_crossentropy', optimizer='adagrad', metrics=['accuracy'])\n",
    "model.fit(train_x, train_y, epochs=100, batch_size=128)"
   ]
  },
  {
   "cell_type": "code",
   "execution_count": 9,
   "metadata": {},
   "outputs": [
    {
     "name": "stdout",
     "output_type": "stream",
     "text": [
      "(256, 8)\n",
      "num of test: 256  correct : 256  mistake: 0\n"
     ]
    }
   ],
   "source": [
    "data_range = 2 ** NUM_DIGITS\n",
    "\n",
    "data = np.array([binary_encode(i, NUM_DIGITS) for i in range(2 ** NUM_DIGITS)])\n",
    "print(data.shape)\n",
    "pred = model.predict(data)\n",
    "ans = []\n",
    "\n",
    "for res in pred:\n",
    "    if res.argmax() == 0:\n",
    "        ans.append('even')\n",
    "    elif res.argmax() == 1:\n",
    "        ans.append('odd')\n",
    "\n",
    "proper = [\n",
    "    'odd' if n % 2 == 1 else 'even'  for n in range(2 ** NUM_DIGITS)\n",
    "]\n",
    "\n",
    "correct, mistake = 0, 0\n",
    "for infer_res, cor_res in zip(ans, proper):\n",
    "    if infer_res == cor_res:\n",
    "        correct += 1\n",
    "    else:\n",
    "        mistake += 1\n",
    "\n",
    "print(\"num of test: {}  correct : {}  mistake: {}\".format(data_range, correct, mistake))"
   ]
  },
  {
   "cell_type": "code",
   "execution_count": null,
   "metadata": {},
   "outputs": [],
   "source": []
  }
 ],
 "metadata": {
  "kernelspec": {
   "display_name": "Python 3",
   "language": "python",
   "name": "python3"
  },
  "language_info": {
   "codemirror_mode": {
    "name": "ipython",
    "version": 3
   },
   "file_extension": ".py",
   "mimetype": "text/x-python",
   "name": "python",
   "nbconvert_exporter": "python",
   "pygments_lexer": "ipython3",
   "version": "3.6.6"
  }
 },
 "nbformat": 4,
 "nbformat_minor": 2
}
