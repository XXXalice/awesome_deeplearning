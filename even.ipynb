{
 "cells": [
  {
   "cell_type": "code",
   "execution_count": 5,
   "metadata": {
    "ExecuteTime": {
     "end_time": "2018-09-11T14:24:52.285071Z",
     "start_time": "2018-09-11T14:24:52.281945Z"
    }
   },
   "outputs": [],
   "source": [
    "import numpy as np\n",
    "import base64\n",
    "from keras.models import Sequential\n",
    "from keras.layers import Dense, Dropout"
   ]
  },
  {
   "cell_type": "code",
   "execution_count": 17,
   "metadata": {
    "ExecuteTime": {
     "end_time": "2018-09-11T14:24:43.288464Z",
     "start_time": "2018-09-11T14:24:43.283722Z"
    }
   },
   "outputs": [
    {
     "name": "stdout",
     "output_type": "stream",
     "text": [
      "[b'MA==\\n', b'MQ==\\n', b'Mg==\\n', b'Mw==\\n', b'NA==\\n', b'NQ==\\n', b'Ng==\\n', b'Nw==\\n', b'OA==\\n', b'OQ==\\n', b'MTA=\\n', b'MTE=\\n', b'MTI=\\n', b'MTM=\\n', b'MTQ=\\n', b'MTU=\\n', b'MTY=\\n', b'MTc=\\n', b'MTg=\\n', b'MTk=\\n', b'MjA=\\n', b'MjE=\\n', b'MjI=\\n', b'MjM=\\n', b'MjQ=\\n', b'MjU=\\n', b'MjY=\\n', b'Mjc=\\n', b'Mjg=\\n', b'Mjk=\\n', b'MzA=\\n', b'MzE=\\n', b'MzI=\\n', b'MzM=\\n', b'MzQ=\\n', b'MzU=\\n', b'MzY=\\n', b'Mzc=\\n', b'Mzg=\\n', b'Mzk=\\n', b'NDA=\\n', b'NDE=\\n', b'NDI=\\n', b'NDM=\\n', b'NDQ=\\n', b'NDU=\\n', b'NDY=\\n', b'NDc=\\n', b'NDg=\\n', b'NDk=\\n', b'NTA=\\n', b'NTE=\\n', b'NTI=\\n', b'NTM=\\n', b'NTQ=\\n', b'NTU=\\n', b'NTY=\\n', b'NTc=\\n', b'NTg=\\n', b'NTk=\\n', b'NjA=\\n', b'NjE=\\n', b'NjI=\\n', b'NjM=\\n', b'NjQ=\\n', b'NjU=\\n', b'NjY=\\n', b'Njc=\\n', b'Njg=\\n', b'Njk=\\n', b'NzA=\\n', b'NzE=\\n', b'NzI=\\n', b'NzM=\\n', b'NzQ=\\n', b'NzU=\\n', b'NzY=\\n', b'Nzc=\\n', b'Nzg=\\n', b'Nzk=\\n', b'ODA=\\n', b'ODE=\\n', b'ODI=\\n', b'ODM=\\n', b'ODQ=\\n', b'ODU=\\n', b'ODY=\\n', b'ODc=\\n', b'ODg=\\n', b'ODk=\\n', b'OTA=\\n', b'OTE=\\n', b'OTI=\\n', b'OTM=\\n', b'OTQ=\\n', b'OTU=\\n', b'OTY=\\n', b'OTc=\\n', b'OTg=\\n', b'OTk=\\n', b'MTAw\\n', b'MTAx\\n', b'MTAy\\n', b'MTAz\\n', b'MTA0\\n', b'MTA1\\n', b'MTA2\\n', b'MTA3\\n', b'MTA4\\n', b'MTA5\\n', b'MTEw\\n', b'MTEx\\n', b'MTEy\\n', b'MTEz\\n', b'MTE0\\n', b'MTE1\\n', b'MTE2\\n', b'MTE3\\n', b'MTE4\\n', b'MTE5\\n', b'MTIw\\n', b'MTIx\\n', b'MTIy\\n', b'MTIz\\n', b'MTI0\\n', b'MTI1\\n', b'MTI2\\n', b'MTI3\\n', b'MTI4\\n', b'MTI5\\n', b'MTMw\\n', b'MTMx\\n', b'MTMy\\n', b'MTMz\\n', b'MTM0\\n', b'MTM1\\n', b'MTM2\\n', b'MTM3\\n', b'MTM4\\n', b'MTM5\\n', b'MTQw\\n', b'MTQx\\n', b'MTQy\\n', b'MTQz\\n', b'MTQ0\\n', b'MTQ1\\n', b'MTQ2\\n', b'MTQ3\\n', b'MTQ4\\n', b'MTQ5\\n', b'MTUw\\n', b'MTUx\\n', b'MTUy\\n', b'MTUz\\n', b'MTU0\\n', b'MTU1\\n', b'MTU2\\n', b'MTU3\\n', b'MTU4\\n', b'MTU5\\n', b'MTYw\\n', b'MTYx\\n', b'MTYy\\n', b'MTYz\\n', b'MTY0\\n', b'MTY1\\n', b'MTY2\\n', b'MTY3\\n', b'MTY4\\n', b'MTY5\\n', b'MTcw\\n', b'MTcx\\n', b'MTcy\\n', b'MTcz\\n', b'MTc0\\n', b'MTc1\\n', b'MTc2\\n', b'MTc3\\n', b'MTc4\\n', b'MTc5\\n', b'MTgw\\n', b'MTgx\\n', b'MTgy\\n', b'MTgz\\n', b'MTg0\\n', b'MTg1\\n', b'MTg2\\n', b'MTg3\\n', b'MTg4\\n', b'MTg5\\n', b'MTkw\\n', b'MTkx\\n', b'MTky\\n', b'MTkz\\n', b'MTk0\\n', b'MTk1\\n', b'MTk2\\n', b'MTk3\\n', b'MTk4\\n', b'MTk5\\n', b'MjAw\\n', b'MjAx\\n', b'MjAy\\n', b'MjAz\\n', b'MjA0\\n', b'MjA1\\n', b'MjA2\\n', b'MjA3\\n', b'MjA4\\n', b'MjA5\\n', b'MjEw\\n', b'MjEx\\n', b'MjEy\\n', b'MjEz\\n', b'MjE0\\n', b'MjE1\\n', b'MjE2\\n', b'MjE3\\n', b'MjE4\\n', b'MjE5\\n', b'MjIw\\n', b'MjIx\\n', b'MjIy\\n', b'MjIz\\n', b'MjI0\\n', b'MjI1\\n', b'MjI2\\n', b'MjI3\\n', b'MjI4\\n', b'MjI5\\n', b'MjMw\\n', b'MjMx\\n', b'MjMy\\n', b'MjMz\\n', b'MjM0\\n', b'MjM1\\n', b'MjM2\\n', b'MjM3\\n', b'MjM4\\n', b'MjM5\\n', b'MjQw\\n', b'MjQx\\n', b'MjQy\\n', b'MjQz\\n', b'MjQ0\\n', b'MjQ1\\n', b'MjQ2\\n', b'MjQ3\\n', b'MjQ4\\n', b'MjQ5\\n', b'MjUw\\n', b'MjUx\\n', b'MjUy\\n', b'MjUz\\n', b'MjU0\\n', b'MjU1\\n']\n"
     ]
    }
   ],
   "source": [
    "n = 255\n",
    "train_x = [base64.encodebytes(str(n).encode(\"utf8\")) for n in range(n+1)]\n",
    "print(train_x)"
   ]
  },
  {
   "cell_type": "code",
   "execution_count": null,
   "metadata": {},
   "outputs": [],
   "source": []
  }
 ],
 "metadata": {
  "kernelspec": {
   "display_name": "Python 3",
   "language": "python",
   "name": "python3"
  },
  "language_info": {
   "codemirror_mode": {
    "name": "ipython",
    "version": 3
   },
   "file_extension": ".py",
   "mimetype": "text/x-python",
   "name": "python",
   "nbconvert_exporter": "python",
   "pygments_lexer": "ipython3",
   "version": "3.6.6"
  }
 },
 "nbformat": 4,
 "nbformat_minor": 2
}
