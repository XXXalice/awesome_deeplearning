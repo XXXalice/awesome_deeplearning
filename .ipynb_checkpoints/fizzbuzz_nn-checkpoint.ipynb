{
 "cells": [
  {
   "cell_type": "code",
   "execution_count": 2,
   "metadata": {
    "ExecuteTime": {
     "end_time": "2018-09-11T14:17:34.483294Z",
     "start_time": "2018-09-11T14:17:31.996353Z"
    }
   },
   "outputs": [
    {
     "name": "stderr",
     "output_type": "stream",
     "text": [
      "Using TensorFlow backend.\n",
      "/usr/local/var/pyenv/versions/anaconda3-5.2.0/envs/ml/lib/python3.6/importlib/_bootstrap.py:219: RuntimeWarning: compiletime version 3.5 of module 'tensorflow.python.framework.fast_tensor_util' does not match runtime version 3.6\n",
      "  return f(*args, **kwds)\n"
     ]
    }
   ],
   "source": [
    "import numpy as np\n",
    "from keras.models import Sequential\n",
    "from keras.layers import Dense\n",
    "from keras.utils import np_utils\n",
    "from keras.layers import Dense\n",
    "from keras.models import Model"
   ]
  },
  {
   "cell_type": "code",
   "execution_count": 8,
   "metadata": {
    "ExecuteTime": {
     "end_time": "2018-09-11T14:18:40.275676Z",
     "start_time": "2018-09-11T14:18:40.065337Z"
    }
   },
   "outputs": [],
   "source": [
    "def binary_encode(i, num_digits):\n",
    "    return np.array([i >> d & 1 for d in range(num_digits)])\n",
    "\n",
    "NUM_DIGITS = 15\n",
    "trX = np.array([binary_encode(i, NUM_DIGITS) for i in range(101, 2 ** NUM_DIGITS)])\n"
   ]
  },
  {
   "cell_type": "code",
   "execution_count": 9,
   "metadata": {
    "ExecuteTime": {
     "end_time": "2018-09-11T14:18:42.171519Z",
     "start_time": "2018-09-11T14:18:42.080438Z"
    }
   },
   "outputs": [],
   "source": [
    "def fizz_buzz_encode(i):\n",
    "    if   i % 15 == 0: return np.array([0, 0, 0, 1]) #fizzbuzz\n",
    "    elif i % 5  == 0: return np.array([0, 0, 1, 0]) #buzz\n",
    "    elif i % 3  == 0: return np.array([0, 1, 0, 0]) #fizz\n",
    "    else:             return np.array([1, 0, 0, 0])\n",
    "\n",
    "trY = np.array([fizz_buzz_encode(i) for i in range(101, 2 ** NUM_DIGITS)])\n"
   ]
  },
  {
   "cell_type": "code",
   "execution_count": 7,
   "metadata": {
    "ExecuteTime": {
     "end_time": "2018-09-10T14:38:35.272654Z",
     "start_time": "2018-09-10T14:38:19.278617Z"
    }
   },
   "outputs": [
    {
     "name": "stderr",
     "output_type": "stream",
     "text": [
      "/usr/local/var/pyenv/versions/anaconda3-5.2.0/envs/ml/lib/python3.6/site-packages/ipykernel_launcher.py:6: UserWarning: The `nb_epoch` argument in `fit` has been renamed `epochs`.\n",
      "  \n"
     ]
    },
    {
     "name": "stdout",
     "output_type": "stream",
     "text": [
      "Epoch 1/100\n",
      "923/923 [==============================] - 0s 408us/step - loss: 2.2000 - acc: 0.4366\n",
      "Epoch 2/100\n",
      "923/923 [==============================] - 0s 158us/step - loss: 1.1507 - acc: 0.5341\n",
      "Epoch 3/100\n",
      "923/923 [==============================] - 0s 141us/step - loss: 1.1434 - acc: 0.5341\n",
      "Epoch 4/100\n",
      "923/923 [==============================] - 0s 164us/step - loss: 1.1319 - acc: 0.5341\n",
      "Epoch 5/100\n",
      "923/923 [==============================] - 0s 170us/step - loss: 1.1264 - acc: 0.5341\n",
      "Epoch 6/100\n",
      "923/923 [==============================] - 0s 167us/step - loss: 1.1166 - acc: 0.5341\n",
      "Epoch 7/100\n",
      "923/923 [==============================] - 0s 154us/step - loss: 1.1014 - acc: 0.5341\n",
      "Epoch 8/100\n",
      "923/923 [==============================] - 0s 152us/step - loss: 1.0937 - acc: 0.5352\n",
      "Epoch 9/100\n",
      "923/923 [==============================] - 0s 157us/step - loss: 1.0776 - acc: 0.5352\n",
      "Epoch 10/100\n",
      "923/923 [==============================] - 0s 154us/step - loss: 1.0607 - acc: 0.5352\n",
      "Epoch 11/100\n",
      "923/923 [==============================] - 0s 157us/step - loss: 1.0389 - acc: 0.5363\n",
      "Epoch 12/100\n",
      "923/923 [==============================] - 0s 161us/step - loss: 1.0185 - acc: 0.5395\n",
      "Epoch 13/100\n",
      "923/923 [==============================] - 0s 161us/step - loss: 0.9977 - acc: 0.5385\n",
      "Epoch 14/100\n",
      "923/923 [==============================] - 0s 156us/step - loss: 0.9742 - acc: 0.5558\n",
      "Epoch 15/100\n",
      "923/923 [==============================] - 0s 154us/step - loss: 0.9480 - acc: 0.5580\n",
      "Epoch 16/100\n",
      "923/923 [==============================] - 0s 166us/step - loss: 0.9194 - acc: 0.5623\n",
      "Epoch 17/100\n",
      "923/923 [==============================] - 0s 168us/step - loss: 0.8910 - acc: 0.5861\n",
      "Epoch 18/100\n",
      "923/923 [==============================] - 0s 174us/step - loss: 0.8688 - acc: 0.5905\n",
      "Epoch 19/100\n",
      "923/923 [==============================] - 0s 161us/step - loss: 0.8464 - acc: 0.6132\n",
      "Epoch 20/100\n",
      "923/923 [==============================] - 0s 168us/step - loss: 0.8249 - acc: 0.6306\n",
      "Epoch 21/100\n",
      "923/923 [==============================] - 0s 172us/step - loss: 0.7783 - acc: 0.6555\n",
      "Epoch 22/100\n",
      "923/923 [==============================] - 0s 164us/step - loss: 0.7735 - acc: 0.6522\n",
      "Epoch 23/100\n",
      "923/923 [==============================] - 0s 154us/step - loss: 0.7343 - acc: 0.6804\n",
      "Epoch 24/100\n",
      "923/923 [==============================] - 0s 161us/step - loss: 0.6973 - acc: 0.7042\n",
      "Epoch 25/100\n",
      "923/923 [==============================] - 0s 167us/step - loss: 0.6824 - acc: 0.7205\n",
      "Epoch 26/100\n",
      "923/923 [==============================] - 0s 170us/step - loss: 0.6223 - acc: 0.7746\n",
      "Epoch 27/100\n",
      "923/923 [==============================] - 0s 167us/step - loss: 0.5952 - acc: 0.7876\n",
      "Epoch 28/100\n",
      "923/923 [==============================] - 0s 186us/step - loss: 0.6005 - acc: 0.7833\n",
      "Epoch 29/100\n",
      "923/923 [==============================] - 0s 192us/step - loss: 0.5572 - acc: 0.8147\n",
      "Epoch 30/100\n",
      "923/923 [==============================] - 0s 163us/step - loss: 0.5484 - acc: 0.8245\n",
      "Epoch 31/100\n",
      "923/923 [==============================] - 0s 170us/step - loss: 0.4900 - acc: 0.8667\n",
      "Epoch 32/100\n",
      "923/923 [==============================] - 0s 189us/step - loss: 0.4526 - acc: 0.8862\n",
      "Epoch 33/100\n",
      "923/923 [==============================] - 0s 178us/step - loss: 0.4573 - acc: 0.8700\n",
      "Epoch 34/100\n",
      "923/923 [==============================] - 0s 172us/step - loss: 0.4247 - acc: 0.9057\n",
      "Epoch 35/100\n",
      "923/923 [==============================] - 0s 167us/step - loss: 0.4583 - acc: 0.8505\n",
      "Epoch 36/100\n",
      "923/923 [==============================] - 0s 161us/step - loss: 0.3640 - acc: 0.9404\n",
      "Epoch 37/100\n",
      "923/923 [==============================] - 0s 161us/step - loss: 0.3567 - acc: 0.9404\n",
      "Epoch 38/100\n",
      "923/923 [==============================] - 0s 166us/step - loss: 0.3235 - acc: 0.9567\n",
      "Epoch 39/100\n",
      "923/923 [==============================] - 0s 169us/step - loss: 0.3053 - acc: 0.9545\n",
      "Epoch 40/100\n",
      "923/923 [==============================] - 0s 157us/step - loss: 0.2885 - acc: 0.9642\n",
      "Epoch 41/100\n",
      "923/923 [==============================] - 0s 164us/step - loss: 0.2993 - acc: 0.9469\n",
      "Epoch 42/100\n",
      "923/923 [==============================] - 0s 171us/step - loss: 0.2601 - acc: 0.9653\n",
      "Epoch 43/100\n",
      "923/923 [==============================] - 0s 170us/step - loss: 0.2426 - acc: 0.9686\n",
      "Epoch 44/100\n",
      "923/923 [==============================] - 0s 168us/step - loss: 0.2388 - acc: 0.9675\n",
      "Epoch 45/100\n",
      "923/923 [==============================] - 0s 168us/step - loss: 0.2097 - acc: 0.9783\n",
      "Epoch 46/100\n",
      "923/923 [==============================] - 0s 169us/step - loss: 0.1993 - acc: 0.9751\n",
      "Epoch 47/100\n",
      "923/923 [==============================] - 0s 166us/step - loss: 0.2052 - acc: 0.9718\n",
      "Epoch 48/100\n",
      "923/923 [==============================] - 0s 161us/step - loss: 0.1738 - acc: 0.9870\n",
      "Epoch 49/100\n",
      "923/923 [==============================] - 0s 161us/step - loss: 0.1660 - acc: 0.9848\n",
      "Epoch 50/100\n",
      "923/923 [==============================] - 0s 183us/step - loss: 0.1508 - acc: 0.9892\n",
      "Epoch 51/100\n",
      "923/923 [==============================] - 0s 174us/step - loss: 0.1519 - acc: 0.9902\n",
      "Epoch 52/100\n",
      "923/923 [==============================] - 0s 171us/step - loss: 0.1377 - acc: 0.9870\n",
      "Epoch 53/100\n",
      "923/923 [==============================] - 0s 175us/step - loss: 0.1267 - acc: 0.9913\n",
      "Epoch 54/100\n",
      "923/923 [==============================] - 0s 181us/step - loss: 0.1232 - acc: 0.9924\n",
      "Epoch 55/100\n",
      "923/923 [==============================] - 0s 173us/step - loss: 0.1155 - acc: 0.9946\n",
      "Epoch 56/100\n",
      "923/923 [==============================] - 0s 229us/step - loss: 0.1111 - acc: 0.9935\n",
      "Epoch 57/100\n",
      "923/923 [==============================] - 0s 195us/step - loss: 0.1009 - acc: 0.9967\n",
      "Epoch 58/100\n",
      "923/923 [==============================] - 0s 175us/step - loss: 0.1028 - acc: 0.9946\n",
      "Epoch 59/100\n",
      "923/923 [==============================] - 0s 176us/step - loss: 0.0935 - acc: 0.9967\n",
      "Epoch 60/100\n",
      "923/923 [==============================] - 0s 199us/step - loss: 0.0899 - acc: 0.9957\n",
      "Epoch 61/100\n",
      "923/923 [==============================] - 0s 177us/step - loss: 0.0889 - acc: 0.9978\n",
      "Epoch 62/100\n",
      "923/923 [==============================] - 0s 176us/step - loss: 0.0960 - acc: 0.9935\n",
      "Epoch 63/100\n",
      "923/923 [==============================] - 0s 175us/step - loss: 0.0756 - acc: 0.9989\n",
      "Epoch 64/100\n",
      "923/923 [==============================] - 0s 157us/step - loss: 0.0772 - acc: 0.9978\n",
      "Epoch 65/100\n",
      "923/923 [==============================] - 0s 163us/step - loss: 0.0675 - acc: 0.9989\n",
      "Epoch 66/100\n",
      "923/923 [==============================] - 0s 180us/step - loss: 0.0652 - acc: 0.9989\n",
      "Epoch 67/100\n",
      "923/923 [==============================] - 0s 155us/step - loss: 0.0629 - acc: 1.0000\n",
      "Epoch 68/100\n",
      "923/923 [==============================] - 0s 165us/step - loss: 0.0593 - acc: 0.9989\n",
      "Epoch 69/100\n",
      "923/923 [==============================] - 0s 165us/step - loss: 0.0622 - acc: 1.0000\n",
      "Epoch 70/100\n",
      "923/923 [==============================] - 0s 159us/step - loss: 0.0570 - acc: 1.0000\n",
      "Epoch 71/100\n",
      "923/923 [==============================] - 0s 157us/step - loss: 0.0522 - acc: 1.0000\n",
      "Epoch 72/100\n",
      "923/923 [==============================] - 0s 158us/step - loss: 0.0530 - acc: 0.9989\n",
      "Epoch 73/100\n",
      "923/923 [==============================] - 0s 174us/step - loss: 0.0503 - acc: 1.0000\n",
      "Epoch 74/100\n",
      "923/923 [==============================] - 0s 182us/step - loss: 0.0487 - acc: 0.9989\n",
      "Epoch 75/100\n",
      "923/923 [==============================] - 0s 180us/step - loss: 0.0451 - acc: 1.0000\n",
      "Epoch 76/100\n",
      "923/923 [==============================] - 0s 168us/step - loss: 0.0446 - acc: 1.0000\n",
      "Epoch 77/100\n",
      "923/923 [==============================] - 0s 163us/step - loss: 0.0420 - acc: 1.0000\n",
      "Epoch 78/100\n",
      "923/923 [==============================] - 0s 184us/step - loss: 0.0413 - acc: 1.0000\n",
      "Epoch 79/100\n",
      "923/923 [==============================] - 0s 163us/step - loss: 0.0394 - acc: 1.0000\n",
      "Epoch 80/100\n",
      "923/923 [==============================] - 0s 160us/step - loss: 0.0378 - acc: 1.0000\n",
      "Epoch 81/100\n",
      "923/923 [==============================] - 0s 163us/step - loss: 0.0365 - acc: 1.0000\n",
      "Epoch 82/100\n",
      "923/923 [==============================] - 0s 159us/step - loss: 0.0360 - acc: 1.0000\n",
      "Epoch 83/100\n",
      "923/923 [==============================] - 0s 186us/step - loss: 0.0343 - acc: 1.0000\n",
      "Epoch 84/100\n",
      "923/923 [==============================] - 0s 155us/step - loss: 0.0337 - acc: 1.0000\n",
      "Epoch 85/100\n",
      "923/923 [==============================] - 0s 161us/step - loss: 0.0324 - acc: 1.0000\n",
      "Epoch 86/100\n",
      "923/923 [==============================] - 0s 159us/step - loss: 0.0322 - acc: 1.0000\n",
      "Epoch 87/100\n",
      "923/923 [==============================] - 0s 194us/step - loss: 0.0304 - acc: 1.0000\n",
      "Epoch 88/100\n",
      "923/923 [==============================] - 0s 169us/step - loss: 0.0305 - acc: 1.0000\n",
      "Epoch 89/100\n",
      "923/923 [==============================] - 0s 159us/step - loss: 0.0289 - acc: 1.0000\n",
      "Epoch 90/100\n",
      "923/923 [==============================] - 0s 171us/step - loss: 0.0287 - acc: 1.0000\n",
      "Epoch 91/100\n",
      "923/923 [==============================] - 0s 213us/step - loss: 0.0273 - acc: 1.0000 0s - loss: 0.0273 - acc: 1.000\n",
      "Epoch 92/100\n",
      "923/923 [==============================] - 0s 152us/step - loss: 0.0265 - acc: 1.0000\n",
      "Epoch 93/100\n",
      "923/923 [==============================] - 0s 141us/step - loss: 0.0265 - acc: 1.0000\n",
      "Epoch 94/100\n",
      "923/923 [==============================] - 0s 150us/step - loss: 0.0265 - acc: 1.0000\n",
      "Epoch 95/100\n",
      "923/923 [==============================] - 0s 136us/step - loss: 0.0246 - acc: 1.0000\n",
      "Epoch 96/100\n",
      "923/923 [==============================] - 0s 139us/step - loss: 0.0248 - acc: 1.0000\n",
      "Epoch 97/100\n",
      "923/923 [==============================] - 0s 144us/step - loss: 0.0240 - acc: 1.0000\n",
      "Epoch 98/100\n",
      "923/923 [==============================] - 0s 140us/step - loss: 0.0226 - acc: 1.0000\n",
      "Epoch 99/100\n",
      "923/923 [==============================] - 0s 139us/step - loss: 0.0224 - acc: 1.0000\n",
      "Epoch 100/100\n",
      "923/923 [==============================] - 0s 148us/step - loss: 0.0232 - acc: 1.0000\n"
     ]
    },
    {
     "data": {
      "text/plain": [
       "<keras.callbacks.History at 0x117ba0e80>"
      ]
     },
     "execution_count": 7,
     "metadata": {},
     "output_type": "execute_result"
    }
   ],
   "source": [
    "model = Sequential()\n",
    "model.add(Dense(1000, input_dim=10, activation=\"relu\"))\n",
    "model.add(Dense(1000, activation=\"relu\"))\n",
    "model.add(Dense(4, activation=\"softmax\"))\n",
    "model.compile(loss='categorical_crossentropy', optimizer='adagrad', metrics=[\"accuracy\"])\n",
    "model.fit(trX, trY, nb_epoch=100, batch_size=128)"
   ]
  },
  {
   "cell_type": "code",
   "execution_count": 8,
   "metadata": {
    "ExecuteTime": {
     "end_time": "2018-09-10T14:39:21.867120Z",
     "start_time": "2018-09-10T14:39:21.814913Z"
    }
   },
   "outputs": [
    {
     "name": "stdout",
     "output_type": "stream",
     "text": [
      "['1' '2' 'fizz' '4' 'buzz' 'fizz' '7' '8' 'fizz' 'buzz' '11' 'fizz' '13'\n",
      " '14' '15' '16' '17' 'fizz' '19' '20' 'fizz' '22' '23' 'fizz' 'buzz' '26'\n",
      " 'fizz' '28' '29' 'fizzbuzz' '31' '32' 'fizz' '34' 'buzz' 'fizz' '37' '38'\n",
      " 'fizz' 'buzz' '41' 'fizz' '43' '44' 'fizzbuzz' '46' '47' 'fizz' '49'\n",
      " 'buzz' 'fizz' '52' '53' 'fizz' 'buzz' '56' 'fizz' '58' '59' 'fizzbuzz'\n",
      " '61' '62' 'fizz' '64' '65' 'fizz' '67' '68' 'fizz' 'buzz' '71' 'fizz'\n",
      " '73' '74' 'fizzbuzz' '76' '77' 'fizz' '79' '80' 'fizz' '82' '83' 'fizz'\n",
      " 'buzz' '86' 'fizz' '88' '89' 'fizzbuzz' '91' '92' 'fizz' '94' 'buzz'\n",
      " 'fizz' '97' '98' 'fizz' '100']\n",
      "['1' '2' 'fizz' '4' 'buzz' 'fizz' '7' '8' 'fizz' 'buzz' '11' 'fizz' '13'\n",
      " '14' 'fizzbuzz' '16' '17' 'fizz' '19' 'buzz' 'fizz' '22' '23' 'fizz'\n",
      " 'buzz' '26' 'fizz' '28' '29' 'fizzbuzz' '31' '32' 'fizz' '34' 'buzz'\n",
      " 'fizz' '37' '38' 'fizz' 'buzz' '41' 'fizz' '43' '44' 'fizzbuzz' '46' '47'\n",
      " 'fizz' '49' 'buzz' 'fizz' '52' '53' 'fizz' 'buzz' '56' 'fizz' '58' '59'\n",
      " 'fizzbuzz' '61' '62' 'fizz' '64' 'buzz' 'fizz' '67' '68' 'fizz' 'buzz'\n",
      " '71' 'fizz' '73' '74' 'fizzbuzz' '76' '77' 'fizz' '79' 'buzz' 'fizz' '82'\n",
      " '83' 'fizz' 'buzz' '86' 'fizz' '88' '89' 'fizzbuzz' '91' '92' 'fizz' '94'\n",
      " 'buzz' 'fizz' '97' '98' 'fizz' 'buzz']\n",
      "0.95\n"
     ]
    }
   ],
   "source": [
    "def fizz_buzz(i, prediction):\n",
    "    return [str(i), \"fizz\", \"buzz\", \"fizzbuzz\"][prediction]\n",
    "numbers = np.arange(1, 101)\n",
    "teX = np.transpose(binary_encode(numbers, NUM_DIGITS))\n",
    "teY = model.predict_classes(teX)\n",
    "output = np.vectorize(fizz_buzz)(numbers, teY)\n",
    "print (output)\n",
    "\n",
    "\n",
    "answer = np.array([])\n",
    "for i in numbers:\n",
    "    if i % 15 == 0: answer = np.append(answer, \"fizzbuzz\")\n",
    "    elif i % 5 == 0: answer = np.append(answer, \"buzz\")\n",
    "    elif i % 3 == 0: answer = np.append(answer, \"fizz\")\n",
    "    else: answer = np.append(answer, str(i))\n",
    "print (answer)\n",
    "\n",
    "evaluate = np.array(answer == output)\n",
    "print (np.count_nonzero(evaluate == True) / 100)"
   ]
  },
  {
   "cell_type": "code",
   "execution_count": null,
   "metadata": {},
   "outputs": [],
   "source": []
  }
 ],
 "metadata": {
  "kernelspec": {
   "display_name": "Python 3",
   "language": "python",
   "name": "python3"
  },
  "language_info": {
   "codemirror_mode": {
    "name": "ipython",
    "version": 3
   },
   "file_extension": ".py",
   "mimetype": "text/x-python",
   "name": "python",
   "nbconvert_exporter": "python",
   "pygments_lexer": "ipython3",
   "version": "3.6.6"
  }
 },
 "nbformat": 4,
 "nbformat_minor": 2
}
